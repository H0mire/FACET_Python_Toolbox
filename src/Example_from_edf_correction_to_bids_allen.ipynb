{
 "cells": [
  {
   "attachments": {},
   "cell_type": "markdown",
   "metadata": {},
   "source": [
    "# Averaged Artifact Substraction with EEG Data\n",
    "## First step prepare Jupyter Notebook"
   ]
  },
  {
   "cell_type": "code",
   "execution_count": 4,
   "metadata": {},
   "outputs": [],
   "source": [
    "import os\n",
    "from FACET.Facet import Facet\n",
    "from loguru import logger\n",
    "import sys\n",
    "\n",
    "os.getcwd()\n",
    "os.chdir(os.path.dirname(os.path.abspath(\"__file__\")))\n",
    "\n",
    "eegDataSet_filepath = \"NiazyFMRI.edf\"\n",
    "motiondata_moosmann_filepath = \"headmotiondata.tsv\"\n",
    "export_bids_path = \"./bids_dir\"\n",
    "\n",
    "#configure logging\n",
    "logger.remove()\n",
    "logger.add(sys.stderr, level=\"INFO\")\n",
    "logger.add(\"Facet.log\", level=\"DEBUG\")\n",
    "\n",
    "#defining important parameters\n",
    "window_size = 25 # defines the window size for averaging\n",
    "upsampling_factor = 10 # defines the resampling factor\n",
    "relative_trigger_position = -0.01 # defines the relative position of the artefact to the trigger.\n",
    "relative_window_position = -0.5 # defines the relative position of the averaging window over the epochs.\n",
    "moosmann_motion_threshold = 0.8 # defines the threshold for moosmann which determines if a motion data entry is significant or not\n",
    "event_id_description_pairs={'trigger':1} # For exporting as bids. It defines the event id and its description.\n",
    "regex_trigger_annotation_filter = r'\\btrigger\\b' # Annotations with the description 'trigger' are considered as triggers, declard for find triggers after reimporting from bids\n",
    "regex_trigger_event_filter = r'\\b1\\b' # Events with the value 1 are considered as triggers, declared for edf stim channel\n",
    "unwanted_bad_channels = ['EKG', 'EMG', 'EOG', 'ECG'] # Channels with these names are considered as bad channels and not considered in the processing\n",
    "evaluation_measures=[\"SNR\", \"RMS\", \"RMS2\", \"MEDIAN\"] # Measures that must be calculated and used for evaluation.\n",
    "\n",
    "f = Facet()\n"
   ]
  },
  {
   "attachments": {},
   "cell_type": "markdown",
   "metadata": {},
   "source": [
    "## Second Step import EEG Data"
   ]
  },
  {
   "cell_type": "code",
   "execution_count": 5,
   "metadata": {},
   "outputs": [
    {
     "name": "stderr",
     "output_type": "stream",
     "text": [
      "\u001b[32m2024-03-03 21:52:19.527\u001b[0m | \u001b[1mINFO    \u001b[0m | \u001b[36mFACET.Facet\u001b[0m:\u001b[36mimport_EEG\u001b[0m:\u001b[36m18\u001b[0m - \u001b[1mImporting EEG from NiazyFMRI.edf\u001b[0m\n",
      "\u001b[32m2024-03-03 21:52:19.733\u001b[0m | \u001b[1mINFO    \u001b[0m | \u001b[36mFACET.Facet\u001b[0m:\u001b[36mfind_triggers\u001b[0m:\u001b[36m28\u001b[0m - \u001b[1mfinding triggers\u001b[0m\n",
      "\u001b[32m2024-03-03 21:52:22.471\u001b[0m | \u001b[1mINFO    \u001b[0m | \u001b[36mFACET.Frameworks.Analytics\u001b[0m:\u001b[36mexport_as_bids\u001b[0m:\u001b[36m71\u001b[0m - \u001b[1mExporting Channels: ['Fp1', 'Fp2', 'F7', 'F3', 'Fz', 'F4', 'F8', 'T3', 'C3', 'Cz', 'C4', 'T4', 'T5', 'P3', 'Pz', 'P4', 'T6', 'O1', 'O2', 'AF4', 'AF3', 'FC2', 'FC1', 'CP1', 'CP2', 'PO3', 'PO4', 'FC6', 'FC5', 'CP5', 'EMG', 'ECG', 'Status']\u001b[0m\n"
     ]
    },
    {
     "ename": "PermissionError",
     "evalue": "[WinError 32] Der Prozess kann nicht auf die Datei zugreifen, da sie von einem anderen Prozess verwendet wird: 'bids_dir\\\\sub-subjectid\\\\ses-sessionid\\\\eeg\\\\sub-subjectid_ses-sessionid_task-corrected_eeg.edf'",
     "output_type": "error",
     "traceback": [
      "\u001b[1;31m---------------------------------------------------------------------------\u001b[0m",
      "\u001b[1;31mPermissionError\u001b[0m                           Traceback (most recent call last)",
      "Cell \u001b[1;32mIn[5], line 4\u001b[0m\n\u001b[0;32m      2\u001b[0m f\u001b[38;5;241m.\u001b[39mfind_triggers(regex_trigger_event_filter)\n\u001b[0;32m      3\u001b[0m eeg \u001b[38;5;241m=\u001b[39m f\u001b[38;5;241m.\u001b[39mget_EEG()\n\u001b[1;32m----> 4\u001b[0m \u001b[43mf\u001b[49m\u001b[38;5;241;43m.\u001b[39;49m\u001b[43mexport_as_bids\u001b[49m\u001b[43m(\u001b[49m\u001b[43mevent_id_description_pairs\u001b[49m\u001b[43m)\u001b[49m\n\u001b[0;32m      5\u001b[0m f\u001b[38;5;241m.\u001b[39mimport_from_bids(rel_trig_pos\u001b[38;5;241m=\u001b[39mrelative_trigger_position, bads\u001b[38;5;241m=\u001b[39munwanted_bad_channels)\n\u001b[0;32m      6\u001b[0m eeg \u001b[38;5;241m=\u001b[39m f\u001b[38;5;241m.\u001b[39mget_EEG()\n",
      "File \u001b[1;32mc:\\Users\\janik\\Projekte\\pyFACET\\FACET_Pyhton_Toolbox\\FACET_Python_Toolbox\\src\\FACET\\Facet.py:70\u001b[0m, in \u001b[0;36mFacet.export_as_bids\u001b[1;34m(self, event_id, bids_path, subject, session, task)\u001b[0m\n\u001b[0;32m     69\u001b[0m \u001b[38;5;28;01mdef\u001b[39;00m \u001b[38;5;21mexport_as_bids\u001b[39m(\u001b[38;5;28mself\u001b[39m, event_id\u001b[38;5;241m=\u001b[39m\u001b[38;5;28;01mNone\u001b[39;00m, bids_path\u001b[38;5;241m=\u001b[39m\u001b[38;5;124m\"\u001b[39m\u001b[38;5;124m./bids_dir\u001b[39m\u001b[38;5;124m\"\u001b[39m, subject\u001b[38;5;241m=\u001b[39m\u001b[38;5;124m\"\u001b[39m\u001b[38;5;124msubjectid\u001b[39m\u001b[38;5;124m\"\u001b[39m, session\u001b[38;5;241m=\u001b[39m\u001b[38;5;124m\"\u001b[39m\u001b[38;5;124msessionid\u001b[39m\u001b[38;5;124m\"\u001b[39m, task\u001b[38;5;241m=\u001b[39m\u001b[38;5;124m\"\u001b[39m\u001b[38;5;124mcorrected\u001b[39m\u001b[38;5;124m\"\u001b[39m):\n\u001b[1;32m---> 70\u001b[0m     \u001b[38;5;28;43mself\u001b[39;49m\u001b[38;5;241;43m.\u001b[39;49m\u001b[43m_analytics\u001b[49m\u001b[38;5;241;43m.\u001b[39;49m\u001b[43mexport_as_bids\u001b[49m\u001b[43m(\u001b[49m\u001b[43mevent_id\u001b[49m\u001b[38;5;241;43m=\u001b[39;49m\u001b[43mevent_id\u001b[49m\u001b[43m,\u001b[49m\u001b[43m \u001b[49m\u001b[43mbids_path\u001b[49m\u001b[38;5;241;43m=\u001b[39;49m\u001b[43mbids_path\u001b[49m\u001b[43m,\u001b[49m\u001b[43m \u001b[49m\u001b[43msubject\u001b[49m\u001b[38;5;241;43m=\u001b[39;49m\u001b[43msubject\u001b[49m\u001b[43m,\u001b[49m\u001b[43m \u001b[49m\u001b[43msession\u001b[49m\u001b[38;5;241;43m=\u001b[39;49m\u001b[43msession\u001b[49m\u001b[43m,\u001b[49m\u001b[43m \u001b[49m\u001b[43mtask\u001b[49m\u001b[38;5;241;43m=\u001b[39;49m\u001b[43mtask\u001b[49m\u001b[43m)\u001b[49m\n",
      "File \u001b[1;32mc:\\Users\\janik\\Projekte\\pyFACET\\FACET_Pyhton_Toolbox\\FACET_Python_Toolbox\\src\\FACET\\Frameworks\\Analytics.py:81\u001b[0m, in \u001b[0;36mAnalytics_Framework.export_as_bids\u001b[1;34m(self, event_id, bids_path, subject, session, task)\u001b[0m\n\u001b[0;32m     78\u001b[0m raw_orig\u001b[38;5;241m.\u001b[39mdrop_channels([raw_orig\u001b[38;5;241m.\u001b[39mch_names[ch] \u001b[38;5;28;01mfor\u001b[39;00m ch \u001b[38;5;129;01min\u001b[39;00m stim_channels])\n\u001b[0;32m     80\u001b[0m \u001b[38;5;28;01mif\u001b[39;00m \u001b[38;5;28mself\u001b[39m\u001b[38;5;241m.\u001b[39m_eeg[\u001b[38;5;124m\"\u001b[39m\u001b[38;5;124mraw\u001b[39m\u001b[38;5;124m\"\u001b[39m] \u001b[38;5;129;01mis\u001b[39;00m \u001b[38;5;129;01mnot\u001b[39;00m \u001b[38;5;28;01mNone\u001b[39;00m:\n\u001b[1;32m---> 81\u001b[0m     \u001b[43mwrite_raw_bids\u001b[49m\u001b[43m(\u001b[49m\u001b[43mraw\u001b[49m\u001b[38;5;241;43m=\u001b[39;49m\u001b[43mraw_orig\u001b[49m\u001b[43m,\u001b[49m\u001b[43m \u001b[49m\u001b[43mbids_path\u001b[49m\u001b[38;5;241;43m=\u001b[39;49m\u001b[43m_BIDSPath\u001b[49m\u001b[43m,\u001b[49m\u001b[43m \u001b[49m\u001b[43moverwrite\u001b[49m\u001b[38;5;241;43m=\u001b[39;49m\u001b[38;5;28;43;01mTrue\u001b[39;49;00m\u001b[43m,\u001b[49m\u001b[43m \u001b[49m\u001b[38;5;28;43mformat\u001b[39;49m\u001b[38;5;241;43m=\u001b[39;49m\u001b[38;5;124;43m\"\u001b[39;49m\u001b[38;5;124;43mEDF\u001b[39;49m\u001b[38;5;124;43m\"\u001b[39;49m\u001b[43m,\u001b[49m\u001b[43m \u001b[49m\u001b[43mallow_preload\u001b[49m\u001b[38;5;241;43m=\u001b[39;49m\u001b[38;5;28;43;01mTrue\u001b[39;49;00m\u001b[43m,\u001b[49m\u001b[43m \u001b[49m\u001b[43mevents\u001b[49m\u001b[38;5;241;43m=\u001b[39;49m\u001b[38;5;28;43mself\u001b[39;49m\u001b[38;5;241;43m.\u001b[39;49m\u001b[43m_eeg\u001b[49m\u001b[43m[\u001b[49m\u001b[38;5;124;43m\"\u001b[39;49m\u001b[38;5;124;43mfiltered_events\u001b[39;49m\u001b[38;5;124;43m\"\u001b[39;49m\u001b[43m]\u001b[49m\u001b[43m,\u001b[49m\u001b[43m \u001b[49m\u001b[43mevent_id\u001b[49m\u001b[38;5;241;43m=\u001b[39;49m\u001b[43mevent_id\u001b[49m\u001b[43m)\u001b[49m\n",
      "File \u001b[1;32m<decorator-gen-418>:12\u001b[0m, in \u001b[0;36mwrite_raw_bids\u001b[1;34m(raw, bids_path, events, event_id, anonymize, format, symlink, empty_room, allow_preload, montage, acpc_aligned, overwrite, events_data, verbose)\u001b[0m\n",
      "File \u001b[1;32mc:\\Users\\janik\\Projekte\\pyFACET\\FACET_Pyhton_Toolbox\\FACET_Python_Toolbox\\.venv\\Lib\\site-packages\\mne_bids\\write.py:2093\u001b[0m, in \u001b[0;36mwrite_raw_bids\u001b[1;34m(***failed resolving arguments***)\u001b[0m\n\u001b[0;32m   2091\u001b[0m         shutil\u001b[38;5;241m.\u001b[39mrmtree(bids_path\u001b[38;5;241m.\u001b[39mfpath)\n\u001b[0;32m   2092\u001b[0m     \u001b[38;5;28;01melse\u001b[39;00m:\n\u001b[1;32m-> 2093\u001b[0m         \u001b[43mbids_path\u001b[49m\u001b[38;5;241;43m.\u001b[39;49m\u001b[43mfpath\u001b[49m\u001b[38;5;241;43m.\u001b[39;49m\u001b[43munlink\u001b[49m\u001b[43m(\u001b[49m\u001b[43m)\u001b[49m\n\u001b[0;32m   2094\u001b[0m \u001b[38;5;28;01melse\u001b[39;00m:\n\u001b[0;32m   2095\u001b[0m     \u001b[38;5;28;01mraise\u001b[39;00m \u001b[38;5;167;01mFileExistsError\u001b[39;00m(\n\u001b[0;32m   2096\u001b[0m         \u001b[38;5;124mf\u001b[39m\u001b[38;5;124m'\u001b[39m\u001b[38;5;124m\"\u001b[39m\u001b[38;5;132;01m{\u001b[39;00mbids_path\u001b[38;5;241m.\u001b[39mfpath\u001b[38;5;132;01m}\u001b[39;00m\u001b[38;5;124m\"\u001b[39m\u001b[38;5;124m already exists. \u001b[39m\u001b[38;5;124m'\u001b[39m \u001b[38;5;124m\"\u001b[39m\u001b[38;5;124mPlease set overwrite to True.\u001b[39m\u001b[38;5;124m\"\u001b[39m\n\u001b[0;32m   2097\u001b[0m     )\n",
      "File \u001b[1;32mC:\\Python311\\Lib\\pathlib.py:1147\u001b[0m, in \u001b[0;36mPath.unlink\u001b[1;34m(self, missing_ok)\u001b[0m\n\u001b[0;32m   1142\u001b[0m \u001b[38;5;250m\u001b[39m\u001b[38;5;124;03m\"\"\"\u001b[39;00m\n\u001b[0;32m   1143\u001b[0m \u001b[38;5;124;03mRemove this file or link.\u001b[39;00m\n\u001b[0;32m   1144\u001b[0m \u001b[38;5;124;03mIf the path is a directory, use rmdir() instead.\u001b[39;00m\n\u001b[0;32m   1145\u001b[0m \u001b[38;5;124;03m\"\"\"\u001b[39;00m\n\u001b[0;32m   1146\u001b[0m \u001b[38;5;28;01mtry\u001b[39;00m:\n\u001b[1;32m-> 1147\u001b[0m     \u001b[43mos\u001b[49m\u001b[38;5;241;43m.\u001b[39;49m\u001b[43munlink\u001b[49m\u001b[43m(\u001b[49m\u001b[38;5;28;43mself\u001b[39;49m\u001b[43m)\u001b[49m\n\u001b[0;32m   1148\u001b[0m \u001b[38;5;28;01mexcept\u001b[39;00m \u001b[38;5;167;01mFileNotFoundError\u001b[39;00m:\n\u001b[0;32m   1149\u001b[0m     \u001b[38;5;28;01mif\u001b[39;00m \u001b[38;5;129;01mnot\u001b[39;00m missing_ok:\n",
      "\u001b[1;31mPermissionError\u001b[0m: [WinError 32] Der Prozess kann nicht auf die Datei zugreifen, da sie von einem anderen Prozess verwendet wird: 'bids_dir\\\\sub-subjectid\\\\ses-sessionid\\\\eeg\\\\sub-subjectid_ses-sessionid_task-corrected_eeg.edf'"
     ]
    }
   ],
   "source": [
    "f.import_EEG(eegDataSet_filepath, rel_trig_pos=relative_trigger_position, upsampling_factor=upsampling_factor, bads=unwanted_bad_channels)\n",
    "f.find_triggers(regex_trigger_event_filter)\n",
    "eeg = f.get_EEG()\n",
    "f.export_as_bids(event_id_description_pairs)\n",
    "f.import_from_bids(rel_trig_pos=relative_trigger_position, bads=unwanted_bad_channels)\n",
    "eeg = f.get_EEG()\n",
    "\n",
    "f.plot_EEG(title=\"after import\")"
   ]
  },
  {
   "attachments": {},
   "cell_type": "markdown",
   "metadata": {},
   "source": [
    "## Third Step Preprocessing"
   ]
  },
  {
   "cell_type": "code",
   "execution_count": null,
   "metadata": {},
   "outputs": [],
   "source": [
    "f.pre_processing()\n"
   ]
  },
  {
   "attachments": {},
   "cell_type": "markdown",
   "metadata": {},
   "source": [
    "## Fourth Step find triggers"
   ]
  },
  {
   "cell_type": "code",
   "execution_count": null,
   "metadata": {},
   "outputs": [],
   "source": [
    "\n",
    "f.find_triggers(regex_trigger_annotation_filter) # Using Niazys data\n",
    "f.get_analytics().print_analytics()\n",
    "eeg = f.get_EEG()\n"
   ]
  },
  {
   "attachments": {},
   "cell_type": "markdown",
   "metadata": {},
   "source": [
    "## Fourth step apply AAS"
   ]
  },
  {
   "cell_type": "code",
   "execution_count": null,
   "metadata": {},
   "outputs": [],
   "source": [
    "f.apply_AAS(window_size=window_size, rel_window_position=relative_window_position)"
   ]
  },
  {
   "attachments": {},
   "cell_type": "markdown",
   "metadata": {},
   "source": [
    "## Fifth step Remove Artifacts"
   ]
  },
  {
   "cell_type": "code",
   "execution_count": null,
   "metadata": {},
   "outputs": [],
   "source": [
    "f.remove_artifacts( )\n",
    "eeg = f.get_EEG()\n",
    "\n"
   ]
  },
  {
   "cell_type": "markdown",
   "metadata": {},
   "source": [
    "## Sixth step Post-Processing"
   ]
  },
  {
   "cell_type": "code",
   "execution_count": null,
   "metadata": {},
   "outputs": [],
   "source": [
    "f.post_processing()"
   ]
  },
  {
   "attachments": {},
   "cell_type": "markdown",
   "metadata": {},
   "source": [
    "## Seventh display the processed eeg data"
   ]
  },
  {
   "cell_type": "code",
   "execution_count": null,
   "metadata": {},
   "outputs": [],
   "source": [
    "f.plot_EEG(title=\"after lowpass\")"
   ]
  },
  {
   "cell_type": "code",
   "execution_count": null,
   "metadata": {},
   "outputs": [],
   "source": []
  },
  {
   "cell_type": "markdown",
   "metadata": {},
   "source": [
    "## Eighth Evaluate Results"
   ]
  },
  {
   "cell_type": "code",
   "execution_count": null,
   "metadata": {},
   "outputs": [],
   "source": [
    "eeg_python = f.get_eeg()\n",
    "f.add_to_evaluate(eeg_python, name=\"numpy_matrix\") # Matrix will result in >1.0 RMS2 because of python mne inaccuracies\n",
    "logger.info(f.evaluate(measures=evaluation_measures))\n",
    "f.get_correction().apply_ANC()#applying ANC\n",
    "f.add_to_evaluate(f.get_eeg(), name=\"numpy_matrix_anc\")\n",
    "logger.info(f.evaluate(measures=evaluation_measures))\n",
    "f.export_as_bids(event_id=event_id_description_pairs, bids_path=export_bids_path)\n",
    "\n"
   ]
  }
 ],
 "metadata": {
  "kernelspec": {
   "display_name": ".venv",
   "language": "python",
   "name": "python3"
  },
  "language_info": {
   "codemirror_mode": {
    "name": "ipython",
    "version": 3
   },
   "file_extension": ".py",
   "mimetype": "text/x-python",
   "name": "python",
   "nbconvert_exporter": "python",
   "pygments_lexer": "ipython3",
   "version": "3.11.4"
  },
  "orig_nbformat": 4
 },
 "nbformat": 4,
 "nbformat_minor": 2
}
