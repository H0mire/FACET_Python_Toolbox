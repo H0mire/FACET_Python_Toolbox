{
 "cells": [
  {
   "attachments": {},
   "cell_type": "markdown",
   "metadata": {},
   "source": [
    "# Averaged Artifact Substraction with EEG Data\n",
    "## First step prepare Jupyter Notebook"
   ]
  },
  {
   "cell_type": "code",
   "execution_count": 1,
   "metadata": {},
   "outputs": [],
   "source": [
    "import os\n",
    "from FACET.Facet import Facet\n",
    "from loguru import logger\n",
    "import sys\n",
    "os.getcwd()\n",
    "os.chdir(os.path.dirname(os.path.abspath(\"__file__\")))\n",
    "\n",
    "eegDataSet_filepath = \"NiazyFMRI.edf\"\n",
    "motiondata_moosmann_filepath = \"headmotiondata.tsv\"\n",
    "export_bids_path = \"./bids_dir\"\n",
    "\n",
    "#logging configuration\n",
    "logger.remove()\n",
    "logger.add(sys.stderr, level=\"INFO\")\n",
    "logger.add(\"Facet.log\", level=\"DEBUG\")\n",
    "\n",
    "#defining important parameters\n",
    "window_size = 25\n",
    "upsampling_factor = 10\n",
    "relative_trigger_position = -0.01\n",
    "relative_window_position = 0.5\n",
    "moosmann_motion_threshold = 0.8\n",
    "event_id_description_pairs={'trigger':1}\n",
    "regex_trigger_annotation_filter = r'\\btrigger\\b' # Annotations with the description 'trigger' are considered as triggers\n",
    "regex_trigger_event_filter = r'\\b1\\b' # Events with the value 1 are considered as triggers\n",
    "unwanted_bad_channels = ['EKG', 'EMG', 'EOG', 'ECG'] # Channels with these names are considered as bad channels and not considered in the processing\n",
    "evaluation_measures=[\"SNR\", \"RMS\", \"RMS2\", \"MEDIAN\"]\n",
    "\n",
    "f = Facet()\n"
   ]
  },
  {
   "attachments": {},
   "cell_type": "markdown",
   "metadata": {},
   "source": [
    "## Second Step import EEG Data"
   ]
  },
  {
   "cell_type": "code",
   "execution_count": 2,
   "metadata": {},
   "outputs": [
    {
     "name": "stdout",
     "output_type": "stream",
     "text": [
      "Importing EEG with:\n",
      "Channels ['Fp1', 'Fp2', 'F7', 'F3', 'Fz', 'F4', 'F8', 'T3', 'C3', 'Cz', 'C4', 'T4', 'T5', 'P3', 'Pz', 'P4', 'T6', 'O1', 'O2', 'AF4', 'AF3', 'FC2', 'FC1', 'CP1', 'CP2', 'PO3', 'PO4', 'FC6', 'FC5', 'CP5', 'EMG', 'ECG', 'Status']\n",
      "Time Start: 0.0s\n",
      "Time End: 162.99951171875s\n",
      "Number of Samples: 333824\n",
      "Sampling Frequency: 2048.0Hz\n",
      "NiazyFMRI.edf\n",
      "Stim-Kanäle gefunden: ['Status']\n",
      "Channels after find trigger: ['Fp1', 'Fp2', 'F7', 'F3', 'Fz', 'F4', 'F8', 'T3', 'C3', 'Cz', 'C4', 'T4', 'T5', 'P3', 'Pz', 'P4', 'T6', 'O1', 'O2', 'AF4', 'AF3', 'FC2', 'FC1', 'CP1', 'CP2', 'PO3', 'PO4', 'FC6', 'FC5', 'CP5', 'EMG', 'ECG', 'Status']\n",
      "finding triggers\n",
      "Exporting Channels: ['Fp1', 'Fp2', 'F7', 'F3', 'Fz', 'F4', 'F8', 'T3', 'C3', 'Cz', 'C4', 'T4', 'T5', 'P3', 'Pz', 'P4', 'T6', 'O1', 'O2', 'AF4', 'AF3', 'FC2', 'FC1', 'CP1', 'CP2', 'PO3', 'PO4', 'FC6', 'FC5', 'CP5', 'EMG', 'ECG', 'Status']\n",
      "Importing EEG with:\n",
      "Channels ['Fp1', 'Fp2', 'F7', 'F3', 'Fz', 'F4', 'F8', 'T3', 'C3', 'Cz', 'C4', 'T4', 'T5', 'P3', 'Pz', 'P4', 'T6', 'O1', 'O2', 'AF4', 'AF3', 'FC2', 'FC1', 'CP1', 'CP2', 'PO3', 'PO4', 'FC6', 'FC5', 'CP5', 'EMG', 'ECG']\n",
      "Time Start: 0.0s\n",
      "Time End: 162.99951171875s\n",
      "Number of Samples: 333824\n",
      "Sampling Frequency: 2048.0Hz\n",
      "./bids_dir\n"
     ]
    }
   ],
   "source": [
    "f.import_EEG(eegDataSet_filepath, rel_trig_pos=relative_trigger_position, upsampling_factor=upsampling_factor, bads=unwanted_bad_channels)\n",
    "f.find_triggers(regex_trigger_event_filter)\n",
    "eeg = f.get_EEG()\n",
    "\n",
    "f.export_as_bids(event_id_description_pairs)\n",
    "f.import_from_bids(rel_trig_pos=relative_trigger_position, bads=unwanted_bad_channels)\n",
    "eeg = f.get_EEG()\n",
    "\n",
    "f.plot_EEG(title=\"after import\")"
   ]
  },
  {
   "attachments": {},
   "cell_type": "markdown",
   "metadata": {},
   "source": [
    "## Third Step Preprocessing"
   ]
  },
  {
   "cell_type": "code",
   "execution_count": 3,
   "metadata": {},
   "outputs": [
    {
     "name": "stdout",
     "output_type": "stream",
     "text": [
      "Applying highpassfilter\n",
      "Upsampling Data\n"
     ]
    }
   ],
   "source": [
    "f.pre_processing()\n"
   ]
  },
  {
   "attachments": {},
   "cell_type": "markdown",
   "metadata": {},
   "source": [
    "## Fourth Step find triggers"
   ]
  },
  {
   "cell_type": "code",
   "execution_count": 4,
   "metadata": {},
   "outputs": [
    {
     "name": "stdout",
     "output_type": "stream",
     "text": [
      "No Stim-Channels found.\n",
      "\n",
      "{'trigger': 1}\n",
      "Channels after find trigger: ['Fp1', 'Fp2', 'F7', 'F3', 'Fz', 'F4', 'F8', 'T3', 'C3', 'Cz', 'C4', 'T4', 'T5', 'P3', 'Pz', 'P4', 'T6', 'O1', 'O2', 'AF4', 'AF3', 'FC2', 'FC1', 'CP1', 'CP2', 'PO3', 'PO4', 'FC6', 'FC5', 'CP5', 'EMG', 'ECG']\n",
      "finding triggers\n"
     ]
    }
   ],
   "source": [
    "\n",
    "f.find_triggers(regex_trigger_annotation_filter, idx=0) # Using Niazys data\n",
    "f.get_analytics().print_analytics()\n",
    "eeg = f.get_EEG()\n"
   ]
  },
  {
   "attachments": {},
   "cell_type": "markdown",
   "metadata": {},
   "source": [
    "## Fourth step apply AAS"
   ]
  },
  {
   "cell_type": "code",
   "execution_count": 5,
   "metadata": {},
   "outputs": [
    {
     "name": "stdout",
     "output_type": "stream",
     "text": [
      "Averaging Channel Fp1 \n",
      "Averaging Channel Fp2 \n",
      "Averaging Channel F7 \n",
      "Averaging Channel F3 \n",
      "Averaging Channel Fz \n",
      "Averaging Channel F4 \n",
      "Averaging Channel F8 \n",
      "Averaging Channel T3 \n",
      "Averaging Channel C3 \n",
      "Averaging Channel Cz \n",
      "Averaging Channel C4 \n",
      "Averaging Channel T4 \n",
      "Averaging Channel T5 \n",
      "Averaging Channel P3 \n",
      "Averaging Channel Pz \n",
      "Averaging Channel P4 \n",
      "Averaging Channel T6 \n",
      "Averaging Channel O1 \n",
      "Averaging Channel O2 \n",
      "Averaging Channel AF4 \n",
      "Averaging Channel AF3 \n",
      "Averaging Channel FC2 \n",
      "Averaging Channel FC1 \n",
      "Averaging Channel CP1 \n",
      "Averaging Channel CP2 \n",
      "Averaging Channel PO3 \n",
      "Averaging Channel PO4 \n",
      "Averaging Channel FC6 \n",
      "Averaging Channel FC5 \n",
      "Averaging Channel CP5 \n"
     ]
    }
   ],
   "source": [
    "f.apply_AAS(window_size=window_size, rel_window_position=relative_window_position)"
   ]
  },
  {
   "attachments": {},
   "cell_type": "markdown",
   "metadata": {},
   "source": [
    "## Fifth step Remove Artifacts"
   ]
  },
  {
   "cell_type": "code",
   "execution_count": 6,
   "metadata": {},
   "outputs": [
    {
     "name": "stdout",
     "output_type": "stream",
     "text": [
      "Removing Artifact from Channel 0 \n",
      "Removing Artifact from Channel 1 \n",
      "Removing Artifact from Channel 2 \n",
      "Removing Artifact from Channel 3 \n",
      "Removing Artifact from Channel 4 \n",
      "Removing Artifact from Channel 5 \n",
      "Removing Artifact from Channel 6 \n",
      "Removing Artifact from Channel 7 \n",
      "Removing Artifact from Channel 8 \n",
      "Removing Artifact from Channel 9 \n",
      "Removing Artifact from Channel 10 \n",
      "Removing Artifact from Channel 11 \n",
      "Removing Artifact from Channel 12 \n",
      "Removing Artifact from Channel 13 \n",
      "Removing Artifact from Channel 14 \n",
      "Removing Artifact from Channel 15 \n",
      "Removing Artifact from Channel 16 \n",
      "Removing Artifact from Channel 17 \n",
      "Removing Artifact from Channel 18 \n",
      "Removing Artifact from Channel 19 \n",
      "Removing Artifact from Channel 20 \n",
      "Removing Artifact from Channel 21 \n",
      "Removing Artifact from Channel 22 \n",
      "Removing Artifact from Channel 23 \n",
      "Removing Artifact from Channel 24 \n",
      "Removing Artifact from Channel 25 \n",
      "Removing Artifact from Channel 26 \n",
      "Removing Artifact from Channel 27 \n",
      "Removing Artifact from Channel 28 \n",
      "Removing Artifact from Channel 29 \n"
     ]
    }
   ],
   "source": [
    "f.remove_artifacts( )\n",
    "eeg = f.get_EEG()\n",
    "\n"
   ]
  },
  {
   "cell_type": "markdown",
   "metadata": {},
   "source": [
    "## Sixth step Post-Processing"
   ]
  },
  {
   "cell_type": "code",
   "execution_count": 7,
   "metadata": {},
   "outputs": [
    {
     "name": "stdout",
     "output_type": "stream",
     "text": [
      "Downsampling Data\n",
      "Applying lowpassfilter\n"
     ]
    }
   ],
   "source": [
    "f.post_processing()"
   ]
  },
  {
   "attachments": {},
   "cell_type": "markdown",
   "metadata": {},
   "source": [
    "## Seventh display the processed eeg data"
   ]
  },
  {
   "cell_type": "code",
   "execution_count": 8,
   "metadata": {},
   "outputs": [],
   "source": [
    "f.plot_EEG(title=\"after lowpass\")"
   ]
  },
  {
   "cell_type": "markdown",
   "metadata": {},
   "source": [
    "## Eighth Evaluate Results"
   ]
  },
  {
   "cell_type": "code",
   "execution_count": 9,
   "metadata": {},
   "outputs": [
    {
     "name": "stdout",
     "output_type": "stream",
     "text": [
      "No Stim-Channels found.\n",
      "\n",
      "{'trigger': 1}\n",
      "Channels after find trigger: ['Fp1', 'Fp2', 'F7', 'F3', 'Fz', 'F4', 'F8', 'T3', 'C3', 'Cz', 'C4', 'T4', 'T5', 'P3', 'Pz', 'P4', 'T6', 'O1', 'O2', 'AF4', 'AF3', 'FC2', 'FC1', 'CP1', 'CP2', 'PO3', 'PO4', 'FC6', 'FC5', 'CP5', 'EMG', 'ECG']\n",
      "finding triggers\n",
      "['Fp1', 'Fp2', 'F7', 'F3', 'Fz', 'F4', 'F8', 'T3', 'C3', 'Cz', 'C4', 'T4', 'T5', 'P3', 'Pz', 'P4', 'T6', 'O1', 'O2', 'AF4', 'AF3', 'FC2', 'FC1', 'CP1', 'CP2', 'PO3', 'PO4', 'FC6', 'FC5', 'CP5', 'EMG', 'ECG']\n",
      "Importing EEG with:\n",
      "Channels ['Fp1', 'Fp2', 'F7', 'F3', 'Fz', 'F4', 'F8', 'T3', 'C3', 'Cz', 'C4', 'T4', 'T5', 'P3', 'Pz', 'P4', 'T6', 'O1', 'O2', 'AF4', 'AF3', 'FC2', 'FC1', 'CP1', 'CP2', 'PO3', 'PO4', 'FC6', 'FC5', 'CP5', 'EMG', 'ECG', 'Status']\n",
      "Time Start: 0.0s\n",
      "Time End: 162.99951171875s\n",
      "Number of Samples: 333824\n",
      "Sampling Frequency: 2048.0Hz\n",
      "NiazyFMRI.edf\n",
      "Applying highpassfilter\n",
      "Upsampling Data\n",
      "Stim-Kanäle gefunden: ['Status']\n",
      "Channels after find trigger: ['Fp1', 'Fp2', 'F7', 'F3', 'Fz', 'F4', 'F8', 'T3', 'C3', 'Cz', 'C4', 'T4', 'T5', 'P3', 'Pz', 'P4', 'T6', 'O1', 'O2', 'AF4', 'AF3', 'FC2', 'FC1', 'CP1', 'CP2', 'PO3', 'PO4', 'FC6', 'FC5', 'CP5', 'EMG', 'ECG', 'Status']\n",
      "finding triggers\n",
      "Removing Artifact from Channel 0 \n",
      "Removing Artifact from Channel 1 \n",
      "Removing Artifact from Channel 2 \n",
      "Removing Artifact from Channel 3 \n",
      "Removing Artifact from Channel 4 \n",
      "Removing Artifact from Channel 5 \n",
      "Removing Artifact from Channel 6 \n",
      "Removing Artifact from Channel 7 \n",
      "Removing Artifact from Channel 8 \n",
      "Removing Artifact from Channel 9 \n",
      "Removing Artifact from Channel 10 \n",
      "Removing Artifact from Channel 11 \n",
      "Removing Artifact from Channel 12 \n",
      "Removing Artifact from Channel 13 \n",
      "Removing Artifact from Channel 14 \n",
      "Removing Artifact from Channel 15 \n",
      "Removing Artifact from Channel 16 \n",
      "Removing Artifact from Channel 17 \n",
      "Removing Artifact from Channel 18 \n",
      "Removing Artifact from Channel 19 \n",
      "Removing Artifact from Channel 20 \n",
      "Removing Artifact from Channel 21 \n",
      "Removing Artifact from Channel 22 \n",
      "Removing Artifact from Channel 23 \n",
      "Removing Artifact from Channel 24 \n",
      "Removing Artifact from Channel 25 \n",
      "Removing Artifact from Channel 26 \n",
      "Removing Artifact from Channel 27 \n",
      "Removing Artifact from Channel 28 \n",
      "Removing Artifact from Channel 29 \n",
      "Downsampling Data\n",
      "Applying lowpassfilter\n",
      "Stim-Kanäle gefunden: ['Status']\n",
      "Channels after find trigger: ['Fp1', 'Fp2', 'F7', 'F3', 'Fz', 'F4', 'F8', 'T3', 'C3', 'Cz', 'C4', 'T4', 'T5', 'P3', 'Pz', 'P4', 'T6', 'O1', 'O2', 'AF4', 'AF3', 'FC2', 'FC1', 'CP1', 'CP2', 'PO3', 'PO4', 'FC6', 'FC5', 'CP5', 'EMG', 'ECG', 'Status']\n",
      "finding triggers\n",
      "['Fp1', 'Fp2', 'F7', 'F3', 'Fz', 'F4', 'F8', 'T3', 'C3', 'Cz', 'C4', 'T4', 'T5', 'P3', 'Pz', 'P4', 'T6', 'O1', 'O2', 'AF4', 'AF3', 'FC2', 'FC1', 'CP1', 'CP2', 'PO3', 'PO4', 'FC6', 'FC5', 'CP5', 'EMG', 'ECG', 'Status']\n"
     ]
    },
    {
     "data": {
      "image/png": "[encoded data removed]",
      "text/plain": [
       "<Figure size 2000x500 with 4 Axes>"
      ]
     },
     "metadata": {},
     "output_type": "display_data"
    },
    {
     "name": "stdout",
     "output_type": "stream",
     "text": [
      "[{'Measure': 'SNR', 'Values': [3.5547081926438593, 3.5550452920440145], 'Unit': 'dB'}, {'Measure': 'RMS Uncorrected to Corrected', 'Values': [70.00221462222746, 75.28729378748463], 'Unit': 'Ratio'}, {'Measure': 'RMS Corrected to Unimpaired', 'Values': [1.1279627981802625, 1.0657311672571779], 'Unit': 'Ratio'}, {'Measure': 'MEDIAN', 'Values': [8.631424203120954e-05, 8.167492392330443e-05], 'Unit': 'V'}]\n",
      "Exporting Channels: ['Fp1', 'Fp2', 'F7', 'F3', 'Fz', 'F4', 'F8', 'T3', 'C3', 'Cz', 'C4', 'T4', 'T5', 'P3', 'Pz', 'P4', 'T6', 'O1', 'O2', 'AF4', 'AF3', 'FC2', 'FC1', 'CP1', 'CP2', 'PO3', 'PO4', 'FC6', 'FC5', 'CP5', 'EMG', 'ECG', 'Status']\n"
     ]
    }
   ],
   "source": [
    "f.find_triggers(r'\\btrigger\\b') # Using Niazys data\n",
    "eeg_python = f.get_eeg()\n",
    "f.add_to_evaluate(eeg_python, name=\"numpy_matrix\") # Matrix will result in >1.0 RMS2 because of python mne inaccuracies\n",
    "\n",
    "#apply moosmann\n",
    "f.import_EEG(eegDataSet_filepath, rel_trig_pos=relative_trigger_position, bads=unwanted_bad_channels)\n",
    "f.pre_processing()\n",
    "f.find_triggers(regex_trigger_event_filter)\n",
    "f.apply_Moosmann(file_path=motiondata_moosmann_filepath, threshold=moosmann_motion_threshold)\n",
    "f.remove_artifacts()\n",
    "f.post_processing()\n",
    "f.find_triggers(regex_trigger_event_filter)\n",
    "f.add_to_evaluate(f.get_eeg(), name=\"Moosmann\")\n",
    "results = f.evaluate(plot=True,measures=evaluation_measures)\n",
    "logger.info(results)\n",
    "\n",
    "f.export_as_bids(event_id=event_id_description_pairs, bids_path=export_bids_path)\n",
    "\n"
   ]
  }
 ],
 "metadata": {
  "kernelspec": {
   "display_name": ".venv",
   "language": "python",
   "name": "python3"
  },
  "language_info": {
   "codemirror_mode": {
    "name": "ipython",
    "version": 3
   },
   "file_extension": ".py",
   "mimetype": "text/x-python",
   "name": "python",
   "nbconvert_exporter": "python",
   "pygments_lexer": "ipython3",
   "version": "3.11.5"
  },
  "orig_nbformat": 4
 },
 "nbformat": 4,
 "nbformat_minor": 2
}
