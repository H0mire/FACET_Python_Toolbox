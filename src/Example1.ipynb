{
 "cells": [
  {
   "attachments": {},
   "cell_type": "markdown",
   "metadata": {},
   "source": [
    "# Averaged Artifact Substraction with EEG Data\n",
    "## First step prepare Jupyter Notebook"
   ]
  },
  {
   "cell_type": "code",
   "execution_count": null,
   "metadata": {},
   "outputs": [],
   "source": [
    "import os\n",
    "from FACET.Facet import Facet\n",
    "os.getcwd()\n",
    "os.chdir(os.path.dirname(os.path.abspath(\"__file__\")))\n",
    "\n",
    "eegDataSet = \"NiazyFMRI.edf\"\n",
    "#eegDataSet = \"C:\\\\Users\\\\janik\\\\Downloads\\\\FMRIB_Data.set\\\\eegNiazy.edf\"\n",
    "\n",
    "f = Facet()\n"
   ]
  },
  {
   "attachments": {},
   "cell_type": "markdown",
   "metadata": {},
   "source": [
    "## Second Step import EEG Data"
   ]
  },
  {
   "cell_type": "code",
   "execution_count": null,
   "metadata": {},
   "outputs": [],
   "source": [
    "f.import_EEG(eegDataSet, rel_trig_pos=-0.01)\n",
    "f.plot_EEG()"
   ]
  },
  {
   "attachments": {},
   "cell_type": "markdown",
   "metadata": {},
   "source": [
    "## Third Step Preprocessing"
   ]
  },
  {
   "cell_type": "code",
   "execution_count": null,
   "metadata": {},
   "outputs": [],
   "source": [
    "f.pre_processing()\n"
   ]
  },
  {
   "attachments": {},
   "cell_type": "markdown",
   "metadata": {},
   "source": [
    "## Fourth Step find triggers"
   ]
  },
  {
   "cell_type": "code",
   "execution_count": null,
   "metadata": {},
   "outputs": [],
   "source": [
    "f.find_triggers_with_events(r'\\b1\\b') # Using Niazys data\n",
    "#f.cut()\n",
    "#f.find_triggers_with_events(r'\\b1\\b',idx=1) # Using Niazys data\n",
    "\n",
    "#f.find_triggers(r'.*TR.*') # Using Fischmeisters data"
   ]
  },
  {
   "attachments": {},
   "cell_type": "markdown",
   "metadata": {},
   "source": [
    "## Fourth step apply AAS"
   ]
  },
  {
   "cell_type": "code",
   "execution_count": null,
   "metadata": {},
   "outputs": [],
   "source": [
    "f.apply_MNE_AAS(method=\"new\")"
   ]
  },
  {
   "attachments": {},
   "cell_type": "markdown",
   "metadata": {},
   "source": [
    "## Fifth step Remove Artifacts"
   ]
  },
  {
   "cell_type": "code",
   "execution_count": null,
   "metadata": {},
   "outputs": [],
   "source": [
    "f.remove_artifacts( )\n",
    "\n"
   ]
  },
  {
   "cell_type": "markdown",
   "metadata": {},
   "source": [
    "## Sixth step Post-Processing"
   ]
  },
  {
   "cell_type": "code",
   "execution_count": null,
   "metadata": {},
   "outputs": [],
   "source": [
    "f.downsample()\n",
    "f.plot_EEG()\n",
    "f.lowpass(h_freq=40)"
   ]
  },
  {
   "attachments": {},
   "cell_type": "markdown",
   "metadata": {},
   "source": [
    "## Seventh display the processed eeg data"
   ]
  },
  {
   "cell_type": "code",
   "execution_count": null,
   "metadata": {},
   "outputs": [],
   "source": [
    "f.plot_EEG()\n",
    "f.export_EEG(\"NiazyFMRI_pyFacet_cleaned.edf\")"
   ]
  },
  {
   "cell_type": "markdown",
   "metadata": {},
   "source": [
    "## Eighth Evaluate Results"
   ]
  },
  {
   "cell_type": "code",
   "execution_count": null,
   "metadata": {},
   "outputs": [],
   "source": [
    "f.find_triggers_with_events(r'\\b1\\b') # Using Niazys data\n",
    "eeg_python = f.get_eeg()\n",
    "f.add_to_evaluate(eeg_python, name=\"MNE_new\")\n",
    "eeg_matlab = f.import_EEG('NiazyFMRI_matlab_cleaned.edf') # EDF File may not save events # maybe use bids instead\n",
    "eeg_matlab[\"raw_orig\"]=eeg_python[\"raw_orig\"]\n",
    "eeg_matlab[\"tmin\"]=eeg_python[\"tmin\"]\n",
    "eeg_matlab[\"tmax\"]=eeg_python[\"tmax\"]\n",
    "eeg_matlab[\"triggers\"]=eeg_python[\"triggers\"]\n",
    "f.lowpass(h_freq=40)\n",
    "f.add_to_evaluate(f.get_eeg(), start_time=eeg_python[\"time_triggers_start\"], end_time=eeg_python[\"time_triggers_end\"], name=\"Matlab\")\n",
    "\n",
    "#normal version\n",
    "f.import_EEG(eegDataSet, rel_trig_pos=-0.01)\n",
    "f.pre_processing()\n",
    "f.find_triggers_with_events(r'\\b1\\b')\n",
    "f.apply_MNE_AAS(method=\"normal\")\n",
    "f.remove_artifacts()\n",
    "f.downsample()\n",
    "f.lowpass(h_freq=40)\n",
    "f.find_triggers_with_events(r'\\b1\\b')\n",
    "f.add_to_evaluate(f.get_eeg(), name=\"Normal\")\n",
    "f.export_EEG(\"NiazyFMRI_pyFacet_cleaned_new.edf\")\n",
    "\n",
    "f.evaluate(plot=True,measures=[\"SNR\", \"RMS\", \"RMS2\", \"MEDIAN\"])\n",
    "\n"
   ]
  }
 ],
 "metadata": {
  "kernelspec": {
   "display_name": ".venv",
   "language": "python",
   "name": "python3"
  },
  "language_info": {
   "codemirror_mode": {
    "name": "ipython",
    "version": 3
   },
   "file_extension": ".py",
   "mimetype": "text/x-python",
   "name": "python",
   "nbconvert_exporter": "python",
   "pygments_lexer": "ipython3",
   "version": "3.11.4"
  },
  "orig_nbformat": 4
 },
 "nbformat": 4,
 "nbformat_minor": 2
}
