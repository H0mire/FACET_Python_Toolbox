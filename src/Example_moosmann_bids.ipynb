{
 "cells": [
  {
   "attachments": {},
   "cell_type": "markdown",
   "metadata": {},
   "source": [
    "# Averaged Artifact Substraction with EEG Data\n",
    "## First step prepare Jupyter Notebook"
   ]
  },
  {
   "cell_type": "code",
   "execution_count": 10,
   "metadata": {},
   "outputs": [],
   "source": [
    "import os\n",
    "from FACET.Facet import Facet\n",
    "\n",
    "from loguru import logger\n",
    "os.getcwd()\n",
    "os.chdir(os.path.dirname(os.path.abspath(\"__file__\")))\n",
    "\n",
    "\n",
    "#configure logging\n",
    "logger.remove()\n",
    "logger.add(sys.stderr, level=\"INFO\")\n",
    "logger.add(\"Facet.log\", level=\"DEBUG\")\n",
    "\n",
    "eegDataSet = \"F:\\EEG Datasets\\openneuro\\FMRIWITHMOTION\"\n",
    "#eegDataSet = \"C:\\\\Users\\\\janik\\\\Downloads\\\\FMRIB_Data.set\\\\eegNiazy.edf\"\n",
    "\n",
    "f = Facet()\n"
   ]
  },
  {
   "attachments": {},
   "cell_type": "markdown",
   "metadata": {},
   "source": [
    "## Second Step import EEG Data"
   ]
  },
  {
   "cell_type": "code",
   "execution_count": 11,
   "metadata": {},
   "outputs": [
    {
     "name": "stdout",
     "output_type": "stream",
     "text": [
      "Importing EEG with:\n",
      "Channels ['Fp1', 'Fp2', 'F3', 'F4', 'C3', 'C4', 'P3', 'P4', 'O1', 'O2', 'F7', 'F8', 'T7', 'T8', 'P7', 'P8', 'Fz', 'Cz', 'Pz', 'Oz', 'FC1', 'FC2', 'CP1', 'CP2', 'FC5', 'FC6', 'CP5', 'CP6', 'TP9', 'TP10', 'POz', 'ECG', 'F1', 'F2', 'C1', 'C2', 'P1', 'P2', 'AF3', 'AF4', 'FC3', 'FC4', 'CP3', 'CP4', 'PO3', 'PO4', 'F5', 'F6', 'C5', 'C6', 'P5', 'P6', 'AF7', 'AF8', 'FT7', 'FT8', 'TP7', 'TP8', 'PO7', 'PO8', 'FT9', 'FT10', 'Fpz', 'CPz']\n",
      "Time Start: 0.0s\n",
      "Time End: 448.8798s\n",
      "Number of Samples: 2244400\n",
      "Sampling Frequency: 5000.0Hz\n",
      "F:\\EEG Datasets\\openneuro\\FMRIWITHMOTION\n",
      "['Fp1', 'Fp2', 'F3', 'F4', 'C3', 'C4', 'P3', 'P4', 'O1', 'O2', 'F7', 'F8', 'T7', 'T8', 'P7', 'P8', 'Fz', 'Cz', 'Pz', 'Oz', 'FC1', 'FC2', 'CP1', 'CP2', 'FC5', 'FC6', 'CP5', 'CP6', 'TP9', 'TP10', 'POz', 'ECG', 'F1', 'F2', 'C1', 'C2', 'P1', 'P2', 'AF3', 'AF4', 'FC3', 'FC4', 'CP3', 'CP4', 'PO3', 'PO4', 'F5', 'F6', 'C5', 'C6', 'P5', 'P6', 'AF7', 'AF8', 'FT7', 'FT8', 'TP7', 'TP8', 'PO7', 'PO8', 'FT9', 'FT10', 'Fpz', 'CPz']\n"
     ]
    }
   ],
   "source": [
    "f.import_from_bids(bids_path=eegDataSet,rel_trig_pos=-5.9,upsampling_factor=1, bads=['EMG', 'ECG'], subject=\"xp101\", session=None,task=\"eegfmriNF\")\n",
    "eeg = f.get_EEG()\n",
    "#print channels\n",
    "logger.debug(eeg[\"raw\"].ch_names)\n",
    "\n",
    "f.plot_EEG(title=\"after import\")"
   ]
  },
  {
   "attachments": {},
   "cell_type": "markdown",
   "metadata": {},
   "source": [
    "## Third Step Preprocessing"
   ]
  },
  {
   "cell_type": "code",
   "execution_count": 12,
   "metadata": {},
   "outputs": [
    {
     "name": "stdout",
     "output_type": "stream",
     "text": [
      "Applying highpassfilter\n",
      "Upsampling Data\n"
     ]
    }
   ],
   "source": [
    "f.pre_processing()\n"
   ]
  },
  {
   "attachments": {},
   "cell_type": "markdown",
   "metadata": {},
   "source": [
    "## Fourth Step find triggers"
   ]
  },
  {
   "cell_type": "code",
   "execution_count": 13,
   "metadata": {},
   "outputs": [
    {
     "name": "stdout",
     "output_type": "stream",
     "text": [
      "\n",
      "No Stim-Channels found.\n",
      "\n",
      "{'New Segment/': 99999, 'Response/R128': 1128, 'Stimulus/S  2': 2, 'Stimulus/S 99': 99}\n",
      "Channels after find trigger: ['Fp1', 'Fp2', 'F3', 'F4', 'C3', 'C4', 'P3', 'P4', 'O1', 'O2', 'F7', 'F8', 'T7', 'T8', 'P7', 'P8', 'Fz', 'Cz', 'Pz', 'Oz', 'FC1', 'FC2', 'CP1', 'CP2', 'FC5', 'FC6', 'CP5', 'CP6', 'TP9', 'TP10', 'POz', 'ECG', 'F1', 'F2', 'C1', 'C2', 'P1', 'P2', 'AF3', 'AF4', 'FC3', 'FC4', 'CP3', 'CP4', 'PO3', 'PO4', 'F5', 'F6', 'C5', 'C6', 'P5', 'P6', 'AF7', 'AF8', 'FT7', 'FT8', 'TP7', 'TP8', 'PO7', 'PO8', 'FT9', 'FT10', 'Fpz', 'CPz']\n",
      "finding triggers\n",
      "[149804, 159804, 169804, 179804, 189804, 199804, 209804, 219804, 229804, 239804, 249804, 259804, 269804, 279804, 289804, 299804, 309804, 319804, 329804, 339804, 349804, 359804, 369804, 379804, 389804, 399804, 409804, 419804, 429804, 439804, 449804, 459804, 469804, 479804, 489804, 499804, 509804, 519804, 529804, 539804, 549804, 559804, 569804, 579804, 589804, 599804, 609804, 619804, 629804, 639804, 649804, 659804, 669804, 679804, 689804, 699804, 709804, 719804, 729804, 739804, 749804, 759804, 769804, 779804, 789804, 799804, 809804, 819804, 829804, 839804, 849804, 859804, 869804, 879804, 889804, 899804, 909804, 919804, 929804, 939804, 949804, 959804, 969804, 979804, 989804, 999804, 1009804, 1019804, 1029804, 1039804, 1049804, 1059804, 1069804, 1079804, 1089804, 1099804, 1109804, 1119804, 1129804, 1139804, 1149804, 1159804, 1169804, 1179804, 1189804, 1199804, 1209804, 1219804, 1229804, 1239804, 1249804, 1259804, 1269804, 1279804, 1289804, 1299804, 1309804, 1319804, 1329804, 1339804, 1349804, 1359804, 1369804, 1379804, 1389804, 1399804, 1409804, 1419804, 1429804, 1439804, 1449804, 1459804, 1469804, 1479804, 1489804, 1499804, 1509804, 1519804, 1529804, 1539804, 1549804, 1559804, 1569804, 1579804, 1589804, 1599804, 1609804, 1619804, 1629804, 1639804, 1649804, 1659804, 1669804, 1679804, 1689804, 1699804, 1709804, 1719804, 1729804, 1739804, 1749804, 1759804, 1769804, 1779804, 1789804, 1799804, 1809804, 1819804, 1829804, 1839804, 1849804, 1859804, 1869804, 1879804, 1889804, 1899804, 1909804, 1919804, 1929804, 1939804, 1949804, 1959804, 1969804, 1979804, 1989804, 1999804, 2009804, 2019804, 2029804, 2039804, 2049804, 2059804, 2069804, 2079804, 2089804, 2099804, 2109804, 2119804, 2129804, 2139804, 2149804, 2159804, 2169804, 2179804, 2189804, 2199804, 2209804, 2219804, 2229804, 2239804]\n"
     ]
    }
   ],
   "source": [
    "eeg = f.get_EEG()\n",
    "#print events\n",
    "f.find_triggers(r'\\bResponse\\b', idx=0) # Using Niazys data\n",
    "eeg = f.get_EEG()\n",
    "#print triggers\n",
    "logger.debug(eeg[\"triggers\"])\n",
    "#f.cut()\n",
    "\n",
    "#f.find_triggers(r'.*TR.*') # Using Fischmeisters data"
   ]
  },
  {
   "attachments": {},
   "cell_type": "markdown",
   "metadata": {},
   "source": [
    "## Fourth step apply AAS"
   ]
  },
  {
   "cell_type": "code",
   "execution_count": 14,
   "metadata": {},
   "outputs": [
    {
     "ename": "ValueError",
     "evalue": "negative dimensions are not allowed",
     "output_type": "error",
     "traceback": [
      "\u001b[1;31m---------------------------------------------------------------------------\u001b[0m",
      "\u001b[1;31mValueError\u001b[0m                                Traceback (most recent call last)",
      "Cell \u001b[1;32mIn[14], line 1\u001b[0m\n\u001b[1;32m----> 1\u001b[0m \u001b[43mf\u001b[49m\u001b[38;5;241;43m.\u001b[39;49m\u001b[43mapply_Moosmann\u001b[49m\u001b[43m(\u001b[49m\u001b[43mfile_path\u001b[49m\u001b[38;5;241;43m=\u001b[39;49m\u001b[38;5;124;43m\"\u001b[39;49m\u001b[38;5;124;43md_sub-xp101_task-eegfmriNF_headmotion.tsv\u001b[39;49m\u001b[38;5;124;43m\"\u001b[39;49m\u001b[43m,\u001b[49m\u001b[43m \u001b[49m\u001b[43mthreshold\u001b[49m\u001b[38;5;241;43m=\u001b[39;49m\u001b[38;5;241;43m0.8\u001b[39;49m\u001b[43m)\u001b[49m\n",
      "File \u001b[1;32mc:\\Users\\janik\\Projekte\\pyFACET\\FACET_Pyhton_Toolbox\\FACET_Python_Toolbox\\src\\FACET\\Facet.py:46\u001b[0m, in \u001b[0;36mFacet.apply_Moosmann\u001b[1;34m(self, file_path, threshold, window_size)\u001b[0m\n\u001b[0;32m     45\u001b[0m \u001b[38;5;28;01mdef\u001b[39;00m \u001b[38;5;21mapply_Moosmann\u001b[39m(\u001b[38;5;28mself\u001b[39m, file_path, threshold\u001b[38;5;241m=\u001b[39m\u001b[38;5;241m5\u001b[39m, window_size\u001b[38;5;241m=\u001b[39m\u001b[38;5;241m25\u001b[39m):\n\u001b[1;32m---> 46\u001b[0m     \u001b[38;5;28;43mself\u001b[39;49m\u001b[38;5;241;43m.\u001b[39;49m\u001b[43m_correction\u001b[49m\u001b[38;5;241;43m.\u001b[39;49m\u001b[43mapply_Moosmann\u001b[49m\u001b[43m(\u001b[49m\u001b[43mfile_path\u001b[49m\u001b[38;5;241;43m=\u001b[39;49m\u001b[43mfile_path\u001b[49m\u001b[43m,\u001b[49m\u001b[43m \u001b[49m\u001b[43mthreshold\u001b[49m\u001b[38;5;241;43m=\u001b[39;49m\u001b[43mthreshold\u001b[49m\u001b[43m,\u001b[49m\u001b[43m \u001b[49m\u001b[43mwindow_size\u001b[49m\u001b[38;5;241;43m=\u001b[39;49m\u001b[43mwindow_size\u001b[49m\u001b[43m)\u001b[49m\n",
      "File \u001b[1;32mc:\\Users\\janik\\Projekte\\pyFACET\\FACET_Pyhton_Toolbox\\FACET_Python_Toolbox\\src\\FACET\\Frameworks\\Correction.py:383\u001b[0m, in \u001b[0;36mCorrection_Framework.apply_Moosmann\u001b[1;34m(self, file_path, window_size, threshold)\u001b[0m\n\u001b[0;32m    382\u001b[0m \u001b[38;5;28;01mdef\u001b[39;00m \u001b[38;5;21mapply_Moosmann\u001b[39m(\u001b[38;5;28mself\u001b[39m, file_path, window_size\u001b[38;5;241m=\u001b[39m\u001b[38;5;241m25\u001b[39m, threshold\u001b[38;5;241m=\u001b[39m\u001b[38;5;241m5\u001b[39m):\n\u001b[1;32m--> 383\u001b[0m     motiondata_struct, weighting_matrix \u001b[38;5;241m=\u001b[39m \u001b[43mcalc_weighted_matrix_by_realignment_parameters_file\u001b[49m\u001b[43m(\u001b[49m\u001b[43mfile_path\u001b[49m\u001b[43m,\u001b[49m\u001b[43m \u001b[49m\u001b[38;5;28;43mself\u001b[39;49m\u001b[38;5;241;43m.\u001b[39;49m\u001b[43m_eeg\u001b[49m\u001b[43m[\u001b[49m\u001b[38;5;124;43m\"\u001b[39;49m\u001b[38;5;124;43mnum_triggers\u001b[39;49m\u001b[38;5;124;43m\"\u001b[39;49m\u001b[43m]\u001b[49m\u001b[43m,\u001b[49m\u001b[43m \u001b[49m\u001b[43mwindow_size\u001b[49m\u001b[43m,\u001b[49m\u001b[43m \u001b[49m\u001b[43mthreshold\u001b[49m\u001b[38;5;241;43m=\u001b[39;49m\u001b[43mthreshold\u001b[49m\u001b[43m)\u001b[49m\n\u001b[0;32m    384\u001b[0m     \u001b[38;5;66;03m#print(weighting_matrix)\u001b[39;00m\n\u001b[0;32m    385\u001b[0m     \u001b[38;5;66;03m#determine number of eeg data only channels\u001b[39;00m\n\u001b[0;32m    386\u001b[0m     eeg_channel_indices \u001b[38;5;241m=\u001b[39m mne\u001b[38;5;241m.\u001b[39mpick_types(\u001b[38;5;28mself\u001b[39m\u001b[38;5;241m.\u001b[39m_eeg[\u001b[38;5;124m\"\u001b[39m\u001b[38;5;124mraw\u001b[39m\u001b[38;5;124m\"\u001b[39m]\u001b[38;5;241m.\u001b[39minfo, meg\u001b[38;5;241m=\u001b[39m\u001b[38;5;28;01mFalse\u001b[39;00m, eeg\u001b[38;5;241m=\u001b[39m\u001b[38;5;28;01mTrue\u001b[39;00m, stim\u001b[38;5;241m=\u001b[39m\u001b[38;5;28;01mFalse\u001b[39;00m, exclude\u001b[38;5;241m=\u001b[39m\u001b[38;5;124m'\u001b[39m\u001b[38;5;124mbads\u001b[39m\u001b[38;5;124m'\u001b[39m)\n",
      "File \u001b[1;32mc:\\Users\\janik\\Projekte\\pyFACET\\FACET_Pyhton_Toolbox\\FACET_Python_Toolbox\\src\\FACET\\helpers\\moosmann.py:55\u001b[0m, in \u001b[0;36mcalc_weighted_matrix_by_realignment_parameters_file\u001b[1;34m(rp_file, n_fmri, k, threshold)\u001b[0m\n\u001b[0;32m     53\u001b[0m \u001b[38;5;66;03m# Beachte Dummy-Scans\u001b[39;00m\n\u001b[0;32m     54\u001b[0m diff_n \u001b[38;5;241m=\u001b[39m n_fmri \u001b[38;5;241m-\u001b[39m n_data\n\u001b[1;32m---> 55\u001b[0m motiondata[\u001b[38;5;124m'\u001b[39m\u001b[38;5;124mboth_not_normed\u001b[39m\u001b[38;5;124m'\u001b[39m] \u001b[38;5;241m=\u001b[39m np\u001b[38;5;241m.\u001b[39mconcatenate((np\u001b[38;5;241m.\u001b[39mzeros(diff_n), motiondata[\u001b[38;5;124m'\u001b[39m\u001b[38;5;124mboth_not_normed\u001b[39m\u001b[38;5;124m'\u001b[39m]))\n\u001b[0;32m     57\u001b[0m \u001b[38;5;28;01mif\u001b[39;00m np\u001b[38;5;241m.\u001b[39mmax(motiondata[\u001b[38;5;124m'\u001b[39m\u001b[38;5;124mboth_not_normed\u001b[39m\u001b[38;5;124m'\u001b[39m]) \u001b[38;5;241m>\u001b[39m \u001b[38;5;241m0\u001b[39m:\n\u001b[0;32m     58\u001b[0m     slid_win \u001b[38;5;241m=\u001b[39m np\u001b[38;5;241m.\u001b[39mzeros((n_fmri, k))\n",
      "\u001b[1;31mValueError\u001b[0m: negative dimensions are not allowed"
     ]
    }
   ],
   "source": [
    "f.apply_Moosmann(file_path=\"d_sub-xp101_task-eegfmriNF_headmotion.tsv\", threshold=0.8)"
   ]
  },
  {
   "attachments": {},
   "cell_type": "markdown",
   "metadata": {},
   "source": [
    "## Fifth step Remove Artifacts"
   ]
  },
  {
   "cell_type": "code",
   "execution_count": null,
   "metadata": {},
   "outputs": [],
   "source": [
    "f.remove_artifacts( )\n",
    "eeg = f.get_EEG()\n",
    "#print triggers\n",
    "logger.debug(eeg[\"triggers\"])\n",
    "\n"
   ]
  },
  {
   "cell_type": "markdown",
   "metadata": {},
   "source": [
    "## Sixth step Post-Processing"
   ]
  },
  {
   "cell_type": "code",
   "execution_count": null,
   "metadata": {},
   "outputs": [],
   "source": [
    "f.downsample()\n",
    "f.plot_EEG( title=\"after downsampling\")\n",
    "f.lowpass(h_freq=40)"
   ]
  },
  {
   "attachments": {},
   "cell_type": "markdown",
   "metadata": {},
   "source": [
    "## Seventh display the processed eeg data"
   ]
  },
  {
   "cell_type": "code",
   "execution_count": null,
   "metadata": {},
   "outputs": [],
   "source": [
    "f.plot_EEG(title=\"after lowpass\")\n",
    "#f.export_EEG(\"Moosmann_cleaned.edf\")"
   ]
  },
  {
   "cell_type": "markdown",
   "metadata": {},
   "source": [
    "## Eighth Evaluate Results"
   ]
  },
  {
   "cell_type": "code",
   "execution_count": null,
   "metadata": {},
   "outputs": [],
   "source": [
    "f.find_triggers(r'\\bResponse\\b') # Using Niazys data\n",
    "eeg_python = f.get_eeg()\n",
    "f.add_to_evaluate(eeg_python, name=\"MNE_matrix\") # Matrix will result in >1.0 RMS2 because of python mne inaccuracies\n",
    "\n",
    "\n",
    "\n",
    "results = f.evaluate(plot=True,measures=[\"SNR\", \"RMS\", \"RMS2\", \"MEDIAN\"])\n",
    "logger.info(results)\n",
    "\n"
   ]
  }
 ],
 "metadata": {
  "kernelspec": {
   "display_name": ".venv",
   "language": "python",
   "name": "python3"
  },
  "language_info": {
   "codemirror_mode": {
    "name": "ipython",
    "version": 3
   },
   "file_extension": ".py",
   "mimetype": "text/x-python",
   "name": "python",
   "nbconvert_exporter": "python",
   "pygments_lexer": "ipython3",
   "version": "3.11.5"
  },
  "orig_nbformat": 4
 },
 "nbformat": 4,
 "nbformat_minor": 2
}
