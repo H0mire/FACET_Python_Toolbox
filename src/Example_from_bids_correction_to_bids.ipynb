{
 "cells": [
  {
   "attachments": {},
   "cell_type": "markdown",
   "metadata": {},
   "source": [
    "# Averaged Artifact Substraction with EEG Data\n",
    "## First step prepare Jupyter Notebook"
   ]
  },
  {
   "cell_type": "code",
   "execution_count": 1,
   "metadata": {},
   "outputs": [],
   "source": [
    "import os\n",
    "from FACET.Facet import Facet\n",
    "from loguru import logger\n",
    "import sys\n",
    "\n",
    "os.getcwd()\n",
    "os.chdir(os.path.dirname(os.path.abspath(\"__file__\")))\n",
    "\n",
    "bids_path = \"F:\\EEG Datasets\\openneuro\\FMRIWITHMOTION\"\n",
    "export_bids_path = bids_path\n",
    "\n",
    "# configure logger\n",
    "logger.remove()\n",
    "logger.add(sys.stderr, level=\"INFO\")\n",
    "logger.add(\"Facet.log\", level=\"DEBUG\")\n",
    "\n",
    "window_size = 25\n",
    "upsampling_factor = 1\n",
    "artifact_to_trigger_offset_in_seconds = -6\n",
    "relative_window_position = -0.5\n",
    "moosmann_motion_threshold = 0.8\n",
    "event_id_description_pairs={'trigger':1}\n",
    "regex_trigger_annotation_filter = r'\\bResponse\\b' # Annotations with the description 'trigger' are considered as triggers\n",
    "unwanted_bad_channels = ['EKG', 'EMG', 'EOG', 'ECG'] # Channels with these names are considered as bad channels and not considered in the processing\n",
    "evaluation_measures=[\"SNR\", \"RMS\", \"RMS2\", \"MEDIAN\"]\n",
    "\n",
    "f = Facet()\n"
   ]
  },
  {
   "cell_type": "code",
   "execution_count": null,
   "metadata": {},
   "outputs": [],
   "source": []
  },
  {
   "attachments": {},
   "cell_type": "markdown",
   "metadata": {},
   "source": [
    "## Second Step import EEG Data"
   ]
  },
  {
   "cell_type": "code",
   "execution_count": 2,
   "metadata": {},
   "outputs": [
    {
     "name": "stderr",
     "output_type": "stream",
     "text": [
      "\u001b[32m2024-03-26 10:49:48.146\u001b[0m | \u001b[1mINFO    \u001b[0m | \u001b[36mFACET.Facet\u001b[0m:\u001b[36mimport_EEG\u001b[0m:\u001b[36m18\u001b[0m - \u001b[1mImporting EEG from F:\\EEG Datasets\\openneuro\\FMRIWITHMOTION\u001b[0m\n"
     ]
    },
    {
     "ename": "FileNotFoundError",
     "evalue": "[WinError 3] Das System kann den angegebenen Pfad nicht finden: 'F:\\\\EEG Datasets\\\\openneuro\\\\FMRIWITHMOTION\\\\sub-xp101'",
     "output_type": "error",
     "traceback": [
      "\u001b[1;31m---------------------------------------------------------------------------\u001b[0m",
      "\u001b[1;31mFileNotFoundError\u001b[0m                         Traceback (most recent call last)",
      "Cell \u001b[1;32mIn[2], line 1\u001b[0m\n\u001b[1;32m----> 1\u001b[0m \u001b[43mf\u001b[49m\u001b[38;5;241;43m.\u001b[39;49m\u001b[43mimport_EEG\u001b[49m\u001b[43m(\u001b[49m\u001b[43mpath\u001b[49m\u001b[38;5;241;43m=\u001b[39;49m\u001b[43mbids_path\u001b[49m\u001b[43m,\u001b[49m\u001b[43mfmt\u001b[49m\u001b[38;5;241;43m=\u001b[39;49m\u001b[38;5;124;43m\"\u001b[39;49m\u001b[38;5;124;43mbids\u001b[39;49m\u001b[38;5;124;43m\"\u001b[39;49m\u001b[43m,\u001b[49m\u001b[43mupsampling_factor\u001b[49m\u001b[38;5;241;43m=\u001b[39;49m\u001b[43mupsampling_factor\u001b[49m\u001b[43m,\u001b[49m\u001b[43martifact_to_trigger_offset\u001b[49m\u001b[38;5;241;43m=\u001b[39;49m\u001b[43martifact_to_trigger_offset_in_seconds\u001b[49m\u001b[43m,\u001b[49m\u001b[43m \u001b[49m\u001b[43mbads\u001b[49m\u001b[38;5;241;43m=\u001b[39;49m\u001b[43m[\u001b[49m\u001b[38;5;124;43m'\u001b[39;49m\u001b[38;5;124;43mEKG\u001b[39;49m\u001b[38;5;124;43m'\u001b[39;49m\u001b[43m,\u001b[49m\u001b[43m \u001b[49m\u001b[38;5;124;43m'\u001b[39;49m\u001b[38;5;124;43mEMG\u001b[39;49m\u001b[38;5;124;43m'\u001b[39;49m\u001b[43m,\u001b[49m\u001b[43m \u001b[49m\u001b[38;5;124;43m'\u001b[39;49m\u001b[38;5;124;43mEOG\u001b[39;49m\u001b[38;5;124;43m'\u001b[39;49m\u001b[43m,\u001b[49m\u001b[43m \u001b[49m\u001b[38;5;124;43m'\u001b[39;49m\u001b[38;5;124;43mECG\u001b[39;49m\u001b[38;5;124;43m'\u001b[39;49m\u001b[43m]\u001b[49m\u001b[43m,\u001b[49m\u001b[43m \u001b[49m\u001b[43msubject\u001b[49m\u001b[38;5;241;43m=\u001b[39;49m\u001b[38;5;124;43m\"\u001b[39;49m\u001b[38;5;124;43mxp101\u001b[39;49m\u001b[38;5;124;43m\"\u001b[39;49m\u001b[43m,\u001b[49m\u001b[43m \u001b[49m\u001b[43msession\u001b[49m\u001b[38;5;241;43m=\u001b[39;49m\u001b[38;5;28;43;01mNone\u001b[39;49;00m\u001b[43m,\u001b[49m\u001b[43mtask\u001b[49m\u001b[38;5;241;43m=\u001b[39;49m\u001b[38;5;124;43m\"\u001b[39;49m\u001b[38;5;124;43meegfmriNF\u001b[39;49m\u001b[38;5;124;43m\"\u001b[39;49m\u001b[43m)\u001b[49m\n\u001b[0;32m      2\u001b[0m eeg \u001b[38;5;241m=\u001b[39m f\u001b[38;5;241m.\u001b[39mget_EEG()\n",
      "File \u001b[1;32mc:\\Users\\janik\\Projekte\\pyFACET\\FACET_Pyhton_Toolbox\\FACET_Python_Toolbox\\src\\FACET\\Facet.py:19\u001b[0m, in \u001b[0;36mFacet.import_EEG\u001b[1;34m(self, path, fmt, artifact_to_trigger_offset, upsampling_factor, bads, subject, session, task)\u001b[0m\n\u001b[0;32m     17\u001b[0m \u001b[38;5;28;01mdef\u001b[39;00m \u001b[38;5;21mimport_EEG\u001b[39m(\u001b[38;5;28mself\u001b[39m, path,fmt\u001b[38;5;241m=\u001b[39m\u001b[38;5;124m\"\u001b[39m\u001b[38;5;124medf\u001b[39m\u001b[38;5;124m\"\u001b[39m, artifact_to_trigger_offset\u001b[38;5;241m=\u001b[39m\u001b[38;5;241m0\u001b[39m, upsampling_factor\u001b[38;5;241m=\u001b[39m\u001b[38;5;241m10\u001b[39m, bads\u001b[38;5;241m=\u001b[39m[], subject\u001b[38;5;241m=\u001b[39m\u001b[38;5;28;01mNone\u001b[39;00m, session\u001b[38;5;241m=\u001b[39m\u001b[38;5;28;01mNone\u001b[39;00m, task\u001b[38;5;241m=\u001b[39m\u001b[38;5;28;01mNone\u001b[39;00m):\n\u001b[0;32m     18\u001b[0m     logger\u001b[38;5;241m.\u001b[39minfo(\u001b[38;5;124mf\u001b[39m\u001b[38;5;124m\"\u001b[39m\u001b[38;5;124mImporting EEG from \u001b[39m\u001b[38;5;132;01m{\u001b[39;00mpath\u001b[38;5;132;01m}\u001b[39;00m\u001b[38;5;124m\"\u001b[39m)\n\u001b[1;32m---> 19\u001b[0m     \u001b[38;5;28mself\u001b[39m\u001b[38;5;241m.\u001b[39m_eeg \u001b[38;5;241m=\u001b[39m \u001b[38;5;28;43mself\u001b[39;49m\u001b[38;5;241;43m.\u001b[39;49m\u001b[43m_analytics\u001b[49m\u001b[38;5;241;43m.\u001b[39;49m\u001b[43mimport_EEG\u001b[49m\u001b[43m(\u001b[49m\u001b[43mpath\u001b[49m\u001b[43m,\u001b[49m\u001b[43m \u001b[49m\u001b[43mfmt\u001b[49m\u001b[38;5;241;43m=\u001b[39;49m\u001b[43mfmt\u001b[49m\u001b[43m,\u001b[49m\u001b[43m \u001b[49m\u001b[43martifact_to_trigger_offset\u001b[49m\u001b[38;5;241;43m=\u001b[39;49m\u001b[43martifact_to_trigger_offset\u001b[49m\u001b[43m,\u001b[49m\u001b[43m \u001b[49m\u001b[43mupsampling_factor\u001b[49m\u001b[38;5;241;43m=\u001b[39;49m\u001b[43mupsampling_factor\u001b[49m\u001b[43m,\u001b[49m\u001b[43m \u001b[49m\u001b[43mbads\u001b[49m\u001b[38;5;241;43m=\u001b[39;49m\u001b[43mbads\u001b[49m\u001b[43m,\u001b[49m\u001b[43m \u001b[49m\u001b[43msubject\u001b[49m\u001b[38;5;241;43m=\u001b[39;49m\u001b[43msubject\u001b[49m\u001b[43m,\u001b[49m\u001b[43m \u001b[49m\u001b[43msession\u001b[49m\u001b[38;5;241;43m=\u001b[39;49m\u001b[43msession\u001b[49m\u001b[43m,\u001b[49m\u001b[43m \u001b[49m\u001b[43mtask\u001b[49m\u001b[38;5;241;43m=\u001b[39;49m\u001b[43mtask\u001b[49m\u001b[43m)\u001b[49m\n\u001b[0;32m     20\u001b[0m     \u001b[38;5;28mself\u001b[39m\u001b[38;5;241m.\u001b[39m_correction \u001b[38;5;241m=\u001b[39m Correction_Framework(\u001b[38;5;28mself\u001b[39m,\u001b[38;5;28mself\u001b[39m\u001b[38;5;241m.\u001b[39m_eeg)\n\u001b[0;32m     21\u001b[0m     \u001b[38;5;28;01mreturn\u001b[39;00m \u001b[38;5;28mself\u001b[39m\u001b[38;5;241m.\u001b[39m_eeg\n",
      "File \u001b[1;32mc:\\Users\\janik\\Projekte\\pyFACET\\FACET_Pyhton_Toolbox\\FACET_Python_Toolbox\\src\\FACET\\Frameworks\\Analytics.py:55\u001b[0m, in \u001b[0;36mAnalytics_Framework.import_EEG\u001b[1;34m(self, path, artifact_to_trigger_offset, upsampling_factor, fmt, bads, subject, session, task)\u001b[0m\n\u001b[0;32m     53\u001b[0m \u001b[38;5;28;01melif\u001b[39;00m fmt \u001b[38;5;241m==\u001b[39m \u001b[38;5;124m\"\u001b[39m\u001b[38;5;124mbids\u001b[39m\u001b[38;5;124m\"\u001b[39m:\n\u001b[0;32m     54\u001b[0m     bids_path_i \u001b[38;5;241m=\u001b[39m BIDSPath(subject\u001b[38;5;241m=\u001b[39msubject, session\u001b[38;5;241m=\u001b[39msession, task\u001b[38;5;241m=\u001b[39mtask, root\u001b[38;5;241m=\u001b[39mpath)\n\u001b[1;32m---> 55\u001b[0m     raw \u001b[38;5;241m=\u001b[39m \u001b[43mread_raw_bids\u001b[49m\u001b[43m(\u001b[49m\u001b[43mbids_path_i\u001b[49m\u001b[43m)\u001b[49m\n\u001b[0;32m     56\u001b[0m \u001b[38;5;28;01melse\u001b[39;00m:\n\u001b[0;32m     57\u001b[0m     \u001b[38;5;28;01mraise\u001b[39;00m \u001b[38;5;167;01mValueError\u001b[39;00m(\u001b[38;5;124m\"\u001b[39m\u001b[38;5;124mFormat not supported\u001b[39m\u001b[38;5;124m\"\u001b[39m)\n",
      "File \u001b[1;32m<decorator-gen-631>:12\u001b[0m, in \u001b[0;36mread_raw_bids\u001b[1;34m(bids_path, extra_params, verbose)\u001b[0m\n",
      "File \u001b[1;32mc:\\ProgramData\\mne-python\\1.5.1_0\\Lib\\site-packages\\mne_bids\\read.py:755\u001b[0m, in \u001b[0;36mread_raw_bids\u001b[1;34m(bids_path, extra_params, verbose)\u001b[0m\n\u001b[0;32m    753\u001b[0m \u001b[38;5;66;03m# infer the datatype and suffix if they are not present in the BIDSPath\u001b[39;00m\n\u001b[0;32m    754\u001b[0m \u001b[38;5;28;01mif\u001b[39;00m datatype \u001b[38;5;129;01mis\u001b[39;00m \u001b[38;5;28;01mNone\u001b[39;00m:\n\u001b[1;32m--> 755\u001b[0m     datatype \u001b[38;5;241m=\u001b[39m \u001b[43m_infer_datatype\u001b[49m\u001b[43m(\u001b[49m\u001b[43mroot\u001b[49m\u001b[38;5;241;43m=\u001b[39;49m\u001b[43mbids_root\u001b[49m\u001b[43m,\u001b[49m\u001b[43m \u001b[49m\u001b[43msub\u001b[49m\u001b[38;5;241;43m=\u001b[39;49m\u001b[43msub\u001b[49m\u001b[43m,\u001b[49m\u001b[43m \u001b[49m\u001b[43mses\u001b[49m\u001b[38;5;241;43m=\u001b[39;49m\u001b[43mses\u001b[49m\u001b[43m)\u001b[49m\n\u001b[0;32m    756\u001b[0m     bids_path\u001b[38;5;241m.\u001b[39mupdate(datatype\u001b[38;5;241m=\u001b[39mdatatype)\n\u001b[0;32m    757\u001b[0m \u001b[38;5;28;01mif\u001b[39;00m suffix \u001b[38;5;129;01mis\u001b[39;00m \u001b[38;5;28;01mNone\u001b[39;00m:\n",
      "File \u001b[1;32mc:\\ProgramData\\mne-python\\1.5.1_0\\Lib\\site-packages\\mne_bids\\path.py:2187\u001b[0m, in \u001b[0;36m_infer_datatype\u001b[1;34m(root, sub, ses)\u001b[0m\n\u001b[0;32m   2183\u001b[0m \u001b[38;5;28;01mdef\u001b[39;00m \u001b[38;5;21m_infer_datatype\u001b[39m(\u001b[38;5;241m*\u001b[39m, root, sub, ses):\n\u001b[0;32m   2184\u001b[0m     \u001b[38;5;66;03m# Check which suffix is available for this particular\u001b[39;00m\n\u001b[0;32m   2185\u001b[0m     \u001b[38;5;66;03m# subject & session. If we get no or multiple hits, throw an error.\u001b[39;00m\n\u001b[1;32m-> 2187\u001b[0m     modalities \u001b[38;5;241m=\u001b[39m \u001b[43m_get_datatypes_for_sub\u001b[49m\u001b[43m(\u001b[49m\u001b[43mroot\u001b[49m\u001b[38;5;241;43m=\u001b[39;49m\u001b[43mroot\u001b[49m\u001b[43m,\u001b[49m\u001b[43m \u001b[49m\u001b[43msub\u001b[49m\u001b[38;5;241;43m=\u001b[39;49m\u001b[43msub\u001b[49m\u001b[43m,\u001b[49m\u001b[43m \u001b[49m\u001b[43mses\u001b[49m\u001b[38;5;241;43m=\u001b[39;49m\u001b[43mses\u001b[49m\u001b[43m)\u001b[49m\n\u001b[0;32m   2189\u001b[0m     \u001b[38;5;66;03m# We only want to handle electrophysiological data here.\u001b[39;00m\n\u001b[0;32m   2190\u001b[0m     allowed_recording_modalities \u001b[38;5;241m=\u001b[39m [\u001b[38;5;124m\"\u001b[39m\u001b[38;5;124mmeg\u001b[39m\u001b[38;5;124m\"\u001b[39m, \u001b[38;5;124m\"\u001b[39m\u001b[38;5;124meeg\u001b[39m\u001b[38;5;124m\"\u001b[39m, \u001b[38;5;124m\"\u001b[39m\u001b[38;5;124mieeg\u001b[39m\u001b[38;5;124m\"\u001b[39m]\n",
      "File \u001b[1;32mc:\\ProgramData\\mne-python\\1.5.1_0\\Lib\\site-packages\\mne_bids\\path.py:2178\u001b[0m, in \u001b[0;36m_get_datatypes_for_sub\u001b[1;34m(root, sub, ses)\u001b[0m\n\u001b[0;32m   2175\u001b[0m \u001b[38;5;66;03m# TODO We do this to ensure we don't accidentally pick up any \"spurious\"\u001b[39;00m\n\u001b[0;32m   2176\u001b[0m \u001b[38;5;66;03m# TODO sub-directories. But is that really necessary with valid BIDS data?\u001b[39;00m\n\u001b[0;32m   2177\u001b[0m modalities_in_dataset \u001b[38;5;241m=\u001b[39m get_datatypes(root\u001b[38;5;241m=\u001b[39mroot)\n\u001b[1;32m-> 2178\u001b[0m subdirs \u001b[38;5;241m=\u001b[39m [f\u001b[38;5;241m.\u001b[39mname \u001b[38;5;28;01mfor\u001b[39;00m f \u001b[38;5;129;01min\u001b[39;00m \u001b[43mos\u001b[49m\u001b[38;5;241;43m.\u001b[39;49m\u001b[43mscandir\u001b[49m\u001b[43m(\u001b[49m\u001b[43msubject_dir\u001b[49m\u001b[43m)\u001b[49m \u001b[38;5;28;01mif\u001b[39;00m f\u001b[38;5;241m.\u001b[39mis_dir()]\n\u001b[0;32m   2179\u001b[0m available_modalities \u001b[38;5;241m=\u001b[39m [s \u001b[38;5;28;01mfor\u001b[39;00m s \u001b[38;5;129;01min\u001b[39;00m subdirs \u001b[38;5;28;01mif\u001b[39;00m s \u001b[38;5;129;01min\u001b[39;00m modalities_in_dataset]\n\u001b[0;32m   2180\u001b[0m \u001b[38;5;28;01mreturn\u001b[39;00m available_modalities\n",
      "\u001b[1;31mFileNotFoundError\u001b[0m: [WinError 3] Das System kann den angegebenen Pfad nicht finden: 'F:\\\\EEG Datasets\\\\openneuro\\\\FMRIWITHMOTION\\\\sub-xp101'"
     ]
    }
   ],
   "source": [
    "f.import_EEG(path=bids_path,fmt=\"bids\",upsampling_factor=upsampling_factor,artifact_to_trigger_offset=artifact_to_trigger_offset_in_seconds, bads=['EKG', 'EMG', 'EOG', 'ECG'], subject=\"xp101\", session=None,task=\"eegfmriNF\")\n",
    "eeg = f.get_EEG()\n"
   ]
  },
  {
   "attachments": {},
   "cell_type": "markdown",
   "metadata": {},
   "source": [
    "## Third Step Preprocessing"
   ]
  },
  {
   "cell_type": "code",
   "execution_count": null,
   "metadata": {},
   "outputs": [],
   "source": [
    "f.pre_processing()\n"
   ]
  },
  {
   "attachments": {},
   "cell_type": "markdown",
   "metadata": {},
   "source": [
    "## Fourth Step find triggers"
   ]
  },
  {
   "cell_type": "code",
   "execution_count": null,
   "metadata": {},
   "outputs": [],
   "source": [
    "\n",
    "f.find_triggers(regex_trigger_annotation_filter) # Using Niazys data\n",
    "eeg = f.get_EEG()\n"
   ]
  },
  {
   "attachments": {},
   "cell_type": "markdown",
   "metadata": {},
   "source": [
    "## Fourth step apply AAS"
   ]
  },
  {
   "cell_type": "code",
   "execution_count": null,
   "metadata": {},
   "outputs": [],
   "source": [
    "f.apply_AAS()"
   ]
  },
  {
   "attachments": {},
   "cell_type": "markdown",
   "metadata": {},
   "source": [
    "## Fifth step Remove Artifacts"
   ]
  },
  {
   "cell_type": "code",
   "execution_count": null,
   "metadata": {},
   "outputs": [],
   "source": [
    "f.remove_artifacts( )\n",
    "eeg = f.get_EEG()\n",
    "\n"
   ]
  },
  {
   "cell_type": "markdown",
   "metadata": {},
   "source": [
    "## Sixth step Post-Processing"
   ]
  },
  {
   "cell_type": "code",
   "execution_count": null,
   "metadata": {},
   "outputs": [],
   "source": [
    "f.post_processing()"
   ]
  },
  {
   "attachments": {},
   "cell_type": "markdown",
   "metadata": {},
   "source": [
    "## Seventh display the processed eeg data"
   ]
  },
  {
   "cell_type": "code",
   "execution_count": null,
   "metadata": {},
   "outputs": [],
   "source": [
    "f.plot_EEG(title=\"after lowpass\")"
   ]
  },
  {
   "cell_type": "markdown",
   "metadata": {},
   "source": [
    "## Eighth Evaluate Results and compare with other Methods"
   ]
  },
  {
   "cell_type": "code",
   "execution_count": null,
   "metadata": {},
   "outputs": [],
   "source": [
    "f.find_triggers(regex_trigger_annotation_filter) \n",
    "eeg_python = f.get_EEG()\n",
    "f.add_to_evaluate(eeg_python, name=\"numpy_matrix\") # Matrix will result in >1.0 RMS2 because of python mne inaccuracies\n",
    "\n",
    "#moosmann\n",
    "f.import_EEG(path=bids_path,fmt=\"bids\",artifact_to_trigger_offset=artifact_to_trigger_offset_in_seconds,upsampling_factor=upsampling_factor, bads=unwanted_bad_channels, subject=\"xp101\", session=None,task=\"eegfmriNF\")\n",
    "f.pre_processing()\n",
    "f.find_triggers(regex_trigger_annotation_filter)\n",
    "f.apply_Moosmann(file_path=\"headmotiondata_209s.tsv\", threshold=moosmann_motion_threshold)\n",
    "f.remove_artifacts()\n",
    "f.downsample()\n",
    "f.lowpass(40)\n",
    "f.find_triggers(regex_trigger_annotation_filter)\n",
    "f.add_to_evaluate(f.get_EEG(), name=\"Moosmann\")\n",
    "\n",
    "\n",
    "\n",
    "results = f.evaluate(plot=True,measures=[\"SNR\", \"RMS\", \"RMS2\", \"MEDIAN\"])\n",
    "logger.info(results)\n",
    "\n",
    "f.export_EEG(fmt=\"bids\", event_id=event_id_description_pairs, path=export_bids_path)\n",
    "\n"
   ]
  }
 ],
 "metadata": {
  "kernelspec": {
   "display_name": ".venv",
   "language": "python",
   "name": "python3"
  },
  "language_info": {
   "codemirror_mode": {
    "name": "ipython",
    "version": 3
   },
   "file_extension": ".py",
   "mimetype": "text/x-python",
   "name": "python",
   "nbconvert_exporter": "python",
   "pygments_lexer": "ipython3",
   "version": "3.11.5"
  },
  "orig_nbformat": 4
 },
 "nbformat": 4,
 "nbformat_minor": 2
}
