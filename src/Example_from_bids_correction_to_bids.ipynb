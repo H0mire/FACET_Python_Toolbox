{
 "cells": [
  {
   "attachments": {},
   "cell_type": "markdown",
   "metadata": {},
   "source": [
    "# Averaged Artifact Substraction with EEG Data\n",
    "## First step prepare Jupyter Notebook"
   ]
  },
  {
   "cell_type": "code",
   "execution_count": null,
   "metadata": {},
   "outputs": [],
   "source": [
    "import os\n",
    "from FACET.Facet import Facet\n",
    "from loguru import logger\n",
    "import sys\n",
    "\n",
    "os.getcwd()\n",
    "os.chdir(os.path.dirname(os.path.abspath(\"__file__\")))\n",
    "\n",
    "bids_path = \"F:\\EEG Datasets\\openneuro\\FMRIWITHMOTION\"\n",
    "export_bids_path = bids_path\n",
    "\n",
    "# configure logger\n",
    "logger.remove()\n",
    "logger.add(sys.stderr, level=\"INFO\")\n",
    "logger.add(\"Facet.log\", level=\"DEBUG\")\n",
    "\n",
    "window_size = 25\n",
    "upsampling_factor = 1\n",
    "relative_trigger_position = -6\n",
    "relative_window_position = -0.5\n",
    "moosmann_motion_threshold = 0.8\n",
    "event_id_description_pairs={'trigger':1}\n",
    "regex_trigger_annotation_filter = r'\\bResponse\\b' # Annotations with the description 'trigger' are considered as triggers\n",
    "unwanted_bad_channels = ['EKG', 'EMG', 'EOG', 'ECG'] # Channels with these names are considered as bad channels and not considered in the processing\n",
    "evaluation_measures=[\"SNR\", \"RMS\", \"RMS2\", \"MEDIAN\"]\n",
    "\n",
    "f = Facet()\n"
   ]
  },
  {
   "cell_type": "code",
   "execution_count": null,
   "metadata": {},
   "outputs": [],
   "source": []
  },
  {
   "attachments": {},
   "cell_type": "markdown",
   "metadata": {},
   "source": [
    "## Second Step import EEG Data"
   ]
  },
  {
   "cell_type": "code",
   "execution_count": null,
   "metadata": {},
   "outputs": [],
   "source": [
    "f.import_from_bids(bids_path=bids_path,upsampling_factor=upsampling_factor,rel_trig_pos=relative_trigger_position, bads=['EKG', 'EMG', 'EOG', 'ECG'], subject=\"xp101\", session=None,task=\"eegfmriNF\")\n",
    "eeg = f.get_EEG()\n"
   ]
  },
  {
   "attachments": {},
   "cell_type": "markdown",
   "metadata": {},
   "source": [
    "## Third Step Preprocessing"
   ]
  },
  {
   "cell_type": "code",
   "execution_count": null,
   "metadata": {},
   "outputs": [],
   "source": [
    "f.pre_processing()\n"
   ]
  },
  {
   "attachments": {},
   "cell_type": "markdown",
   "metadata": {},
   "source": [
    "## Fourth Step find triggers"
   ]
  },
  {
   "cell_type": "code",
   "execution_count": null,
   "metadata": {},
   "outputs": [],
   "source": [
    "\n",
    "f.find_triggers(regex_trigger_annotation_filter) # Using Niazys data\n",
    "eeg = f.get_EEG()\n"
   ]
  },
  {
   "attachments": {},
   "cell_type": "markdown",
   "metadata": {},
   "source": [
    "## Fourth step apply AAS"
   ]
  },
  {
   "cell_type": "code",
   "execution_count": null,
   "metadata": {},
   "outputs": [],
   "source": [
    "f.apply_AAS()"
   ]
  },
  {
   "attachments": {},
   "cell_type": "markdown",
   "metadata": {},
   "source": [
    "## Fifth step Remove Artifacts"
   ]
  },
  {
   "cell_type": "code",
   "execution_count": null,
   "metadata": {},
   "outputs": [],
   "source": [
    "f.remove_artifacts( )\n",
    "eeg = f.get_EEG()\n",
    "\n"
   ]
  },
  {
   "cell_type": "markdown",
   "metadata": {},
   "source": [
    "## Sixth step Post-Processing"
   ]
  },
  {
   "cell_type": "code",
   "execution_count": null,
   "metadata": {},
   "outputs": [],
   "source": [
    "f.post_processing()"
   ]
  },
  {
   "attachments": {},
   "cell_type": "markdown",
   "metadata": {},
   "source": [
    "## Seventh display the processed eeg data"
   ]
  },
  {
   "cell_type": "code",
   "execution_count": null,
   "metadata": {},
   "outputs": [],
   "source": [
    "f.plot_EEG(title=\"after lowpass\")"
   ]
  },
  {
   "cell_type": "markdown",
   "metadata": {},
   "source": [
    "## Eighth Evaluate Results and compare with other Methods"
   ]
  },
  {
   "cell_type": "code",
   "execution_count": null,
   "metadata": {},
   "outputs": [],
   "source": [
    "f.find_triggers(regex_trigger_annotation_filter) \n",
    "eeg_python = f.get_eeg()\n",
    "f.add_to_evaluate(eeg_python, name=\"numpy_matrix\") # Matrix will result in >1.0 RMS2 because of python mne inaccuracies\n",
    "\n",
    "#moosmann\n",
    "f.import_from_bids(bids_path=bids_path,rel_trig_pos=relative_trigger_position,upsampling_factor=upsampling_factor, bads=unwanted_bad_channels, subject=\"xp101\", session=None,task=\"eegfmriNF\")\n",
    "f.pre_processing()\n",
    "f.find_triggers(regex_trigger_annotation_filter)\n",
    "f.apply_Moosmann(file_path=\"headmotiondata_209s.tsv\", threshold=moosmann_motion_threshold)\n",
    "f.remove_artifacts()\n",
    "f.downsample()\n",
    "f.lowpass(40)\n",
    "f.find_triggers(regex_trigger_annotation_filter)\n",
    "f.add_to_evaluate(f.get_eeg(), name=\"Moosmann\")\n",
    "\n",
    "\n",
    "\n",
    "results = f.evaluate(plot=True,measures=[\"SNR\", \"RMS\", \"RMS2\", \"MEDIAN\"])\n",
    "logger.info(results)\n",
    "\n",
    "f.export_as_bids(event_id=event_id_description_pairs, bids_path=export_bids_path)\n",
    "\n"
   ]
  }
 ],
 "metadata": {
  "kernelspec": {
   "display_name": ".venv",
   "language": "python",
   "name": "python3"
  },
  "language_info": {
   "codemirror_mode": {
    "name": "ipython",
    "version": 3
   },
   "file_extension": ".py",
   "mimetype": "text/x-python",
   "name": "python",
   "nbconvert_exporter": "python",
   "pygments_lexer": "ipython3",
   "version": "3.11.7"
  },
  "orig_nbformat": 4
 },
 "nbformat": 4,
 "nbformat_minor": 2
}
