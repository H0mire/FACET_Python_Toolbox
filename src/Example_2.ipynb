{
 "cells": [
  {
   "attachments": {},
   "cell_type": "markdown",
   "metadata": {},
   "source": [
    "# Averaged Artifact Substraction with EEG Data\n",
    "## First step prepare Jupyter Notebook"
   ]
  },
  {
   "cell_type": "code",
   "execution_count": null,
   "metadata": {},
   "outputs": [],
   "source": [
    "import os\n",
    "from FACET.Facet import Facet\n",
    "os.getcwd()\n",
    "os.chdir(os.path.dirname(os.path.abspath(\"__file__\")))\n",
    "\n",
    "bids_path = \"F:\\EEG Datasets\\openneuro\\FMRIWITHMOTION\"\n",
    "export_bids_path = bids_path\n",
    "\n",
    "event_id_description_pairs = {'trigger':1}\n",
    "\n",
    "f = Facet()\n"
   ]
  },
  {
   "attachments": {},
   "cell_type": "markdown",
   "metadata": {},
   "source": [
    "## Second Step import EEG Data"
   ]
  },
  {
   "cell_type": "code",
   "execution_count": null,
   "metadata": {},
   "outputs": [],
   "source": [
    "f.import_from_bids(bids_path=bids_path,upsampling_factor=1,rel_trig_pos=-6, bads=['EMG', 'ECG'], subject=\"xp101\", session=None,task=\"eegfmriNF\")\n",
    "eeg = f.get_EEG()\n",
    "\n",
    "f.plot_EEG(title=\"after import\")"
   ]
  },
  {
   "attachments": {},
   "cell_type": "markdown",
   "metadata": {},
   "source": [
    "## Third Step Preprocessing"
   ]
  },
  {
   "cell_type": "code",
   "execution_count": null,
   "metadata": {},
   "outputs": [],
   "source": [
    "f.pre_processing()\n"
   ]
  },
  {
   "attachments": {},
   "cell_type": "markdown",
   "metadata": {},
   "source": [
    "## Fourth Step find triggers"
   ]
  },
  {
   "cell_type": "code",
   "execution_count": null,
   "metadata": {},
   "outputs": [],
   "source": [
    "\n",
    "f.find_triggers(r'\\bResponse\\b', idx=0) # Using Niazys data\n",
    "eeg = f.get_EEG()\n"
   ]
  },
  {
   "attachments": {},
   "cell_type": "markdown",
   "metadata": {},
   "source": [
    "## Fourth step apply AAS"
   ]
  },
  {
   "cell_type": "code",
   "execution_count": null,
   "metadata": {},
   "outputs": [],
   "source": [
    "f.apply_AAS()"
   ]
  },
  {
   "attachments": {},
   "cell_type": "markdown",
   "metadata": {},
   "source": [
    "## Fifth step Remove Artifacts"
   ]
  },
  {
   "cell_type": "code",
   "execution_count": null,
   "metadata": {},
   "outputs": [],
   "source": [
    "f.remove_artifacts( )\n",
    "eeg = f.get_EEG()\n",
    "#print triggers\n",
    "#print(eeg[\"triggers\"])\n",
    "\n"
   ]
  },
  {
   "cell_type": "markdown",
   "metadata": {},
   "source": [
    "## Sixth step Post-Processing"
   ]
  },
  {
   "cell_type": "code",
   "execution_count": null,
   "metadata": {},
   "outputs": [],
   "source": [
    "f.downsample()\n",
    "f.plot_EEG( title=\"after downsampling\")\n",
    "f.lowpass(h_freq=40)"
   ]
  },
  {
   "attachments": {},
   "cell_type": "markdown",
   "metadata": {},
   "source": [
    "## Seventh display the processed eeg data"
   ]
  },
  {
   "cell_type": "code",
   "execution_count": null,
   "metadata": {},
   "outputs": [],
   "source": [
    "f.plot_EEG(title=\"after lowpass\")\n",
    "#f.export_EEG(\"NiazyFMRI_pyFacet_cleaned.edf\")"
   ]
  },
  {
   "cell_type": "markdown",
   "metadata": {},
   "source": [
    "## Eighth Evaluate Results and compare with other Methods"
   ]
  },
  {
   "cell_type": "code",
   "execution_count": null,
   "metadata": {},
   "outputs": [],
   "source": [
    "f.find_triggers(r'\\bResponse\\b') # Using Niazys data\n",
    "eeg_python = f.get_eeg()\n",
    "f.add_to_evaluate(eeg_python, name=\"numpy_matrix\") # Matrix will result in >1.0 RMS2 because of python mne inaccuracies\n",
    "\n",
    "#moosmann\n",
    "f.import_from_bids(bids_path=bids_path,rel_trig_pos=-6,upsampling_factor=1, bads=['EMG', 'ECG'], , subject=\"xp101\", session=None,task=\"eegfmriNF\")\n",
    "f.pre_processing()\n",
    "f.find_triggers(r'\\bResponse\\b')\n",
    "f.apply_Moosmann(file_path=\"d_sub-xp101_task-eegfmriNF_headmotion.tsv\", threshold=0.8)\n",
    "f.remove_artifacts()\n",
    "f.downsample()\n",
    "f.lowpass(h_freq=40)\n",
    "f.find_triggers(r'\\bResponse\\b')\n",
    "f.add_to_evaluate(f.get_eeg(), name=\"Moosmann\")\n",
    "\n",
    "\n",
    "\n",
    "results = f.evaluate(plot=True,measures=[\"SNR\", \"RMS\", \"RMS2\", \"MEDIAN\"])\n",
    "print(results)\n",
    "\n",
    "f.export_as_bids(event_id=event_id_description_pairs, bids_path=export_bids_path)\n",
    "\n"
   ]
  }
 ],
 "metadata": {
  "kernelspec": {
   "display_name": ".venv",
   "language": "python",
   "name": "python3"
  },
  "language_info": {
   "codemirror_mode": {
    "name": "ipython",
    "version": 3
   },
   "file_extension": ".py",
   "mimetype": "text/x-python",
   "name": "python",
   "nbconvert_exporter": "python",
   "pygments_lexer": "ipython3",
   "version": "3.11.5"
  },
  "orig_nbformat": 4
 },
 "nbformat": 4,
 "nbformat_minor": 2
}
