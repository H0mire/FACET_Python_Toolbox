{
 "cells": [
  {
   "attachments": {},
   "cell_type": "markdown",
   "metadata": {},
   "source": [
    "# Averaged Artifact Substraction with EEG Data\n",
    "## First step prepare Jupyter Notebook"
   ]
  },
  {
   "cell_type": "code",
   "execution_count": 1,
   "metadata": {},
   "outputs": [],
   "source": [
    "import os\n",
    "from FACET.Facet import Facet\n",
    "os.getcwd()\n",
    "os.chdir(os.path.dirname(os.path.abspath(\"__file__\")))\n",
    "\n",
    "bids_path = \"F:\\EEG Datasets\\openneuro\\FMRIWITHMOTION\"\n",
    "\n",
    "f = Facet()\n"
   ]
  },
  {
   "attachments": {},
   "cell_type": "markdown",
   "metadata": {},
   "source": [
    "## Second Step import EEG Data"
   ]
  },
  {
   "cell_type": "code",
   "execution_count": 2,
   "metadata": {},
   "outputs": [
    {
     "name": "stdout",
     "output_type": "stream",
     "text": [
      "Importing EEG with:\n",
      "Channels ['Fp1', 'Fp2', 'F3', 'F4', 'C3', 'C4', 'P3', 'P4', 'O1', 'O2', 'F7', 'F8', 'T7', 'T8', 'P7', 'P8', 'Fz', 'Cz', 'Pz', 'Oz', 'FC1', 'FC2', 'CP1', 'CP2', 'FC5', 'FC6', 'CP5', 'CP6', 'TP9', 'TP10', 'POz', 'ECG', 'F1', 'F2', 'C1', 'C2', 'P1', 'P2', 'AF3', 'AF4', 'FC3', 'FC4', 'CP3', 'CP4', 'PO3', 'PO4', 'F5', 'F6', 'C5', 'C6', 'P5', 'P6', 'AF7', 'AF8', 'FT7', 'FT8', 'TP7', 'TP8', 'PO7', 'PO8', 'FT9', 'FT10', 'Fpz', 'CPz']\n",
      "Time Start: 0.0s\n",
      "Time End: 448.8798s\n",
      "Number of Samples: 2244400\n",
      "Sampling Frequency: 5000.0Hz\n",
      "F:\\EEG Datasets\\openneuro\\FMRIWITHMOTION\n"
     ]
    }
   ],
   "source": [
    "f.import_from_bids(bids_path=bids_path,upsampling_factor=1,rel_trig_pos=-6, bads=['EMG', 'ECG'], subject=\"xp101\", session=None,task=\"eegfmriNF\")\n",
    "eeg = f.get_EEG()\n",
    "#print channels\n",
    "#print(eeg[\"raw\"].ch_names)\n",
    "\n",
    "f.plot_EEG(title=\"after import\")"
   ]
  },
  {
   "attachments": {},
   "cell_type": "markdown",
   "metadata": {},
   "source": [
    "## Third Step Preprocessing"
   ]
  },
  {
   "cell_type": "code",
   "execution_count": 3,
   "metadata": {},
   "outputs": [
    {
     "name": "stdout",
     "output_type": "stream",
     "text": [
      "Applying highpassfilter\n",
      "Upsampling Data\n"
     ]
    }
   ],
   "source": [
    "f.pre_processing()\n"
   ]
  },
  {
   "attachments": {},
   "cell_type": "markdown",
   "metadata": {},
   "source": [
    "## Fourth Step find triggers"
   ]
  },
  {
   "cell_type": "code",
   "execution_count": 4,
   "metadata": {},
   "outputs": [
    {
     "name": "stdout",
     "output_type": "stream",
     "text": [
      "No Stim-Channels found.\n",
      "\n",
      "{'New Segment/': 99999, 'Response/R128': 1128, 'Stimulus/S  2': 2, 'Stimulus/S 99': 99}\n",
      "Channels after find trigger: ['Fp1', 'Fp2', 'F3', 'F4', 'C3', 'C4', 'P3', 'P4', 'O1', 'O2', 'F7', 'F8', 'T7', 'T8', 'P7', 'P8', 'Fz', 'Cz', 'Pz', 'Oz', 'FC1', 'FC2', 'CP1', 'CP2', 'FC5', 'FC6', 'CP5', 'CP6', 'TP9', 'TP10', 'POz', 'ECG', 'F1', 'F2', 'C1', 'C2', 'P1', 'P2', 'AF3', 'AF4', 'FC3', 'FC4', 'CP3', 'CP4', 'PO3', 'PO4', 'F5', 'F6', 'C5', 'C6', 'P5', 'P6', 'AF7', 'AF8', 'FT7', 'FT8', 'TP7', 'TP8', 'PO7', 'PO8', 'FT9', 'FT10', 'Fpz', 'CPz']\n",
      "finding triggers\n"
     ]
    }
   ],
   "source": [
    "\n",
    "f.find_triggers(r'\\bResponse\\b', idx=0) # Using Niazys data\n",
    "eeg = f.get_EEG()\n",
    "#print triggers\n",
    "#print(eeg[\"triggers\"])\n",
    "#f.cut()\n",
    "\n",
    "#f.find_triggers(r'.*TR.*') # Using Fischmeisters data"
   ]
  },
  {
   "attachments": {},
   "cell_type": "markdown",
   "metadata": {},
   "source": [
    "## Fourth step apply AAS"
   ]
  },
  {
   "cell_type": "code",
   "execution_count": 5,
   "metadata": {},
   "outputs": [
    {
     "ename": "MemoryError",
     "evalue": "Unable to allocate 1.05 GiB for an array with shape (63, 2244400) and data type float64",
     "output_type": "error",
     "traceback": [
      "\u001b[1;31m---------------------------------------------------------------------------\u001b[0m",
      "\u001b[1;31mMemoryError\u001b[0m                               Traceback (most recent call last)",
      "Cell \u001b[1;32mIn[5], line 1\u001b[0m\n\u001b[1;32m----> 1\u001b[0m \u001b[43mf\u001b[49m\u001b[38;5;241;43m.\u001b[39;49m\u001b[43mapply_AAS\u001b[49m\u001b[43m(\u001b[49m\u001b[43mmethod\u001b[49m\u001b[38;5;241;43m=\u001b[39;49m\u001b[38;5;124;43m\"\u001b[39;49m\u001b[38;5;124;43mnumpy\u001b[39;49m\u001b[38;5;124;43m\"\u001b[39;49m\u001b[43m)\u001b[49m\n",
      "File \u001b[1;32mc:\\Users\\janik\\Projekte\\pyFACET\\FACET_Pyhton_Toolbox\\FACET_Python_Toolbox\\src\\FACET\\Facet.py:41\u001b[0m, in \u001b[0;36mFacet.apply_AAS\u001b[1;34m(self, method, rel_window_offset, window_size)\u001b[0m\n\u001b[0;32m     39\u001b[0m     \u001b[38;5;28mself\u001b[39m\u001b[38;5;241m.\u001b[39m_correction\u001b[38;5;241m.\u001b[39mapply_MNE_AAS()\n\u001b[0;32m     40\u001b[0m \u001b[38;5;28;01melif\u001b[39;00m method \u001b[38;5;241m==\u001b[39m \u001b[38;5;124m\"\u001b[39m\u001b[38;5;124mnumpy\u001b[39m\u001b[38;5;124m\"\u001b[39m:\n\u001b[1;32m---> 41\u001b[0m     \u001b[38;5;28;43mself\u001b[39;49m\u001b[38;5;241;43m.\u001b[39;49m\u001b[43m_correction\u001b[49m\u001b[38;5;241;43m.\u001b[39;49m\u001b[43mapply_MNE_AAS_matrix_numpy\u001b[49m\u001b[43m(\u001b[49m\u001b[43mrel_window_offset\u001b[49m\u001b[43m,\u001b[49m\u001b[43m \u001b[49m\u001b[43mwindow_size\u001b[49m\u001b[38;5;241;43m=\u001b[39;49m\u001b[43mwindow_size\u001b[49m\u001b[43m)\u001b[49m\n\u001b[0;32m     42\u001b[0m \u001b[38;5;28;01melse\u001b[39;00m:\n\u001b[0;32m     43\u001b[0m     \u001b[38;5;28;01mraise\u001b[39;00m \u001b[38;5;167;01mValueError\u001b[39;00m(\u001b[38;5;124m\"\u001b[39m\u001b[38;5;124mInvalid method parameter\u001b[39m\u001b[38;5;124m\"\u001b[39m)\n",
      "File \u001b[1;32mc:\\Users\\janik\\Projekte\\pyFACET\\FACET_Pyhton_Toolbox\\FACET_Python_Toolbox\\src\\FACET\\Frameworks\\Correction.py:258\u001b[0m, in \u001b[0;36mCorrection_Framework.apply_MNE_AAS_matrix_numpy\u001b[1;34m(self, rel_window_offset, window_size)\u001b[0m\n\u001b[0;32m    254\u001b[0m eeg_channels \u001b[38;5;241m=\u001b[39m mne\u001b[38;5;241m.\u001b[39mpick_types(\n\u001b[0;32m    255\u001b[0m     raw\u001b[38;5;241m.\u001b[39minfo, meg\u001b[38;5;241m=\u001b[39m\u001b[38;5;28;01mFalse\u001b[39;00m, eeg\u001b[38;5;241m=\u001b[39m\u001b[38;5;28;01mTrue\u001b[39;00m, stim\u001b[38;5;241m=\u001b[39m\u001b[38;5;28;01mFalse\u001b[39;00m, eog\u001b[38;5;241m=\u001b[39m\u001b[38;5;28;01mFalse\u001b[39;00m, exclude\u001b[38;5;241m=\u001b[39m\u001b[38;5;124m\"\u001b[39m\u001b[38;5;124mbads\u001b[39m\u001b[38;5;124m\"\u001b[39m\n\u001b[0;32m    256\u001b[0m )\n\u001b[0;32m    257\u001b[0m channels_to_keep \u001b[38;5;241m=\u001b[39m [raw\u001b[38;5;241m.\u001b[39mch_names[i] \u001b[38;5;28;01mfor\u001b[39;00m i \u001b[38;5;129;01min\u001b[39;00m eeg_channels[:]]\n\u001b[1;32m--> 258\u001b[0m \u001b[43mraw\u001b[49m\u001b[38;5;241;43m.\u001b[39;49m\u001b[43mpick\u001b[49m\u001b[43m(\u001b[49m\u001b[43mchannels_to_keep\u001b[49m\u001b[43m)\u001b[49m  \u001b[38;5;66;03m# raw wird in-place modifiziert\u001b[39;00m\n\u001b[0;32m    260\u001b[0m \u001b[38;5;66;03m# Epochen erstellen\u001b[39;00m\n\u001b[0;32m    261\u001b[0m epochs \u001b[38;5;241m=\u001b[39m mne\u001b[38;5;241m.\u001b[39mEpochs(\n\u001b[0;32m    262\u001b[0m     raw,\n\u001b[0;32m    263\u001b[0m     events\u001b[38;5;241m=\u001b[39m\u001b[38;5;28mself\u001b[39m\u001b[38;5;241m.\u001b[39m_eeg[\u001b[38;5;124m\"\u001b[39m\u001b[38;5;124mfiltered_events\u001b[39m\u001b[38;5;124m\"\u001b[39m],\n\u001b[1;32m   (...)\u001b[0m\n\u001b[0;32m    269\u001b[0m     preload\u001b[38;5;241m=\u001b[39m\u001b[38;5;28;01mTrue\u001b[39;00m,\n\u001b[0;32m    270\u001b[0m )\n",
      "File \u001b[1;32m<decorator-gen-54>:12\u001b[0m, in \u001b[0;36mpick\u001b[1;34m(self, picks, exclude, verbose)\u001b[0m\n",
      "File \u001b[1;32mc:\\ProgramData\\mne-python\\1.5.1_0\\Lib\\site-packages\\mne\\channels\\channels.py:453\u001b[0m, in \u001b[0;36mUpdateChannelsMixin.pick\u001b[1;34m(self, picks, exclude, verbose)\u001b[0m\n\u001b[0;32m    435\u001b[0m \u001b[38;5;250m\u001b[39m\u001b[38;5;124;03m\"\"\"Pick a subset of channels.\u001b[39;00m\n\u001b[0;32m    436\u001b[0m \n\u001b[0;32m    437\u001b[0m \u001b[38;5;124;03mParameters\u001b[39;00m\n\u001b[1;32m   (...)\u001b[0m\n\u001b[0;32m    450\u001b[0m \u001b[38;5;124;03m    The modified instance.\u001b[39;00m\n\u001b[0;32m    451\u001b[0m \u001b[38;5;124;03m\"\"\"\u001b[39;00m\n\u001b[0;32m    452\u001b[0m picks \u001b[38;5;241m=\u001b[39m _picks_to_idx(\u001b[38;5;28mself\u001b[39m\u001b[38;5;241m.\u001b[39minfo, picks, \u001b[38;5;124m\"\u001b[39m\u001b[38;5;124mall\u001b[39m\u001b[38;5;124m\"\u001b[39m, exclude, allow_empty\u001b[38;5;241m=\u001b[39m\u001b[38;5;28;01mFalse\u001b[39;00m)\n\u001b[1;32m--> 453\u001b[0m \u001b[38;5;28;01mreturn\u001b[39;00m \u001b[38;5;28;43mself\u001b[39;49m\u001b[38;5;241;43m.\u001b[39;49m\u001b[43m_pick_drop_channels\u001b[49m\u001b[43m(\u001b[49m\u001b[43mpicks\u001b[49m\u001b[43m)\u001b[49m\n",
      "File \u001b[1;32m<decorator-gen-55>:12\u001b[0m, in \u001b[0;36m_pick_drop_channels\u001b[1;34m(self, idx, verbose)\u001b[0m\n",
      "File \u001b[1;32mc:\\ProgramData\\mne-python\\1.5.1_0\\Lib\\site-packages\\mne\\channels\\channels.py:578\u001b[0m, in \u001b[0;36mUpdateChannelsMixin._pick_drop_channels\u001b[1;34m(self, idx, verbose)\u001b[0m\n\u001b[0;32m    576\u001b[0m     axis \u001b[38;5;241m=\u001b[39m \u001b[38;5;241m-\u001b[39m\u001b[38;5;241m2\u001b[39m\n\u001b[0;32m    577\u001b[0m \u001b[38;5;28;01mif\u001b[39;00m \u001b[38;5;28mhasattr\u001b[39m(\u001b[38;5;28mself\u001b[39m, \u001b[38;5;124m\"\u001b[39m\u001b[38;5;124m_data\u001b[39m\u001b[38;5;124m\"\u001b[39m):  \u001b[38;5;66;03m# skip non-preloaded Raw\u001b[39;00m\n\u001b[1;32m--> 578\u001b[0m     \u001b[38;5;28mself\u001b[39m\u001b[38;5;241m.\u001b[39m_data \u001b[38;5;241m=\u001b[39m \u001b[38;5;28;43mself\u001b[39;49m\u001b[38;5;241;43m.\u001b[39;49m\u001b[43m_data\u001b[49m\u001b[38;5;241;43m.\u001b[39;49m\u001b[43mtake\u001b[49m\u001b[43m(\u001b[49m\u001b[43midx\u001b[49m\u001b[43m,\u001b[49m\u001b[43m \u001b[49m\u001b[43maxis\u001b[49m\u001b[38;5;241;43m=\u001b[39;49m\u001b[43maxis\u001b[49m\u001b[43m)\u001b[49m\n\u001b[0;32m    579\u001b[0m \u001b[38;5;28;01melse\u001b[39;00m:\n\u001b[0;32m    580\u001b[0m     \u001b[38;5;28;01massert\u001b[39;00m \u001b[38;5;28misinstance\u001b[39m(\u001b[38;5;28mself\u001b[39m, BaseRaw) \u001b[38;5;129;01mand\u001b[39;00m \u001b[38;5;129;01mnot\u001b[39;00m \u001b[38;5;28mself\u001b[39m\u001b[38;5;241m.\u001b[39mpreload\n",
      "\u001b[1;31mMemoryError\u001b[0m: Unable to allocate 1.05 GiB for an array with shape (63, 2244400) and data type float64"
     ]
    }
   ],
   "source": [
    "f.apply_AAS(method=\"numpy\")"
   ]
  },
  {
   "attachments": {},
   "cell_type": "markdown",
   "metadata": {},
   "source": [
    "## Fifth step Remove Artifacts"
   ]
  },
  {
   "cell_type": "code",
   "execution_count": null,
   "metadata": {},
   "outputs": [],
   "source": [
    "f.remove_artifacts( )\n",
    "eeg = f.get_EEG()\n",
    "#print triggers\n",
    "#print(eeg[\"triggers\"])\n",
    "\n"
   ]
  },
  {
   "cell_type": "markdown",
   "metadata": {},
   "source": [
    "## Sixth step Post-Processing"
   ]
  },
  {
   "cell_type": "code",
   "execution_count": null,
   "metadata": {},
   "outputs": [],
   "source": [
    "f.downsample()\n",
    "f.plot_EEG( title=\"after downsampling\")\n",
    "f.lowpass(h_freq=40)"
   ]
  },
  {
   "attachments": {},
   "cell_type": "markdown",
   "metadata": {},
   "source": [
    "## Seventh display the processed eeg data"
   ]
  },
  {
   "cell_type": "code",
   "execution_count": null,
   "metadata": {},
   "outputs": [],
   "source": [
    "f.plot_EEG(title=\"after lowpass\")\n",
    "#f.export_EEG(\"NiazyFMRI_pyFacet_cleaned.edf\")"
   ]
  },
  {
   "cell_type": "markdown",
   "metadata": {},
   "source": [
    "## Eighth Evaluate Results and compare with other Methods"
   ]
  },
  {
   "cell_type": "code",
   "execution_count": null,
   "metadata": {},
   "outputs": [],
   "source": [
    "f.find_triggers(r'\\bResponse\\b') # Using Niazys data\n",
    "eeg_python = f.get_eeg()\n",
    "f.add_to_evaluate(eeg_python, name=\"numpy_matrix\") # Matrix will result in >1.0 RMS2 because of python mne inaccuracies\n",
    "\n",
    "\n",
    "#mne version\n",
    "f.import_from_bids(bids_path=bids_path,rel_trig_pos=-6,upsampling_factor=1, bads=['EMG', 'ECG'], subject=\"xp101\", session=None,task=\"eegfmriNF\")\n",
    "f.pre_processing()\n",
    "f.find_triggers(r'\\bResponse\\b')\n",
    "f.apply_AAS(method=\"normal\")\n",
    "f.remove_artifacts()\n",
    "f.downsample()\n",
    "f.lowpass(h_freq=40)\n",
    "f.find_triggers(r'\\bResponse\\b')\n",
    "f.add_to_evaluate(f.get_eeg(), name=\"MNE\")\n",
    "#f.export_EEG(\"NiazyFMRI_pyFacet_cleaned_new.edf\")\n",
    "\n",
    "#moosmann\n",
    "f.import_from_bids(bids_path=bids_path,rel_trig_pos=-6,upsampling_factor=1, bads=['EMG', 'ECG'], , subject=\"xp101\", session=None,task=\"eegfmriNF\")\n",
    "f.pre_processing()\n",
    "f.find_triggers(r'\\bResponse\\b')\n",
    "f.apply_Moosmann(file_path=\"d_sub-xp101_task-eegfmriNF_headmotion.tsv\", threshold=0.8)\n",
    "f.remove_artifacts()\n",
    "f.downsample()\n",
    "f.lowpass(h_freq=40)\n",
    "f.find_triggers(r'\\bResponse\\b')\n",
    "f.add_to_evaluate(f.get_eeg(), name=\"Moosmann\")\n",
    "\n",
    "\n",
    "\n",
    "results = f.evaluate(plot=True,measures=[\"SNR\", \"RMS\", \"RMS2\", \"MEDIAN\"])\n",
    "print(results)\n",
    "\n",
    "#f.export_as_bids(event_id=event_id)\n",
    "\n"
   ]
  }
 ],
 "metadata": {
  "kernelspec": {
   "display_name": ".venv",
   "language": "python",
   "name": "python3"
  },
  "language_info": {
   "codemirror_mode": {
    "name": "ipython",
    "version": 3
   },
   "file_extension": ".py",
   "mimetype": "text/x-python",
   "name": "python",
   "nbconvert_exporter": "python",
   "pygments_lexer": "ipython3",
   "version": "3.11.5"
  },
  "orig_nbformat": 4
 },
 "nbformat": 4,
 "nbformat_minor": 2
}
